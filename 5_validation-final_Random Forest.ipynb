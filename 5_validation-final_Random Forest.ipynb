{
 "cells": [
  {
   "cell_type": "markdown",
   "metadata": {},
   "source": [
    "## Data Science for Crime Prediction"
   ]
  },
  {
   "cell_type": "markdown",
   "metadata": {},
   "source": [
    "### Linear Regression and Random Forest"
   ]
  },
  {
   "cell_type": "code",
   "execution_count": 3,
   "metadata": {},
   "outputs": [
    {
     "data": {
      "text/html": [
       "        <script type=\"text/javascript\">\n",
       "        window.PlotlyConfig = {MathJaxConfig: 'local'};\n",
       "        if (window.MathJax) {MathJax.Hub.Config({SVG: {font: \"STIX-Web\"}});}\n",
       "        if (typeof require !== 'undefined') {\n",
       "        require.undef(\"plotly\");\n",
       "        requirejs.config({\n",
       "            paths: {\n",
       "                'plotly': ['https://cdn.plot.ly/plotly-latest.min']\n",
       "            }\n",
       "        });\n",
       "        require(['plotly'], function(Plotly) {\n",
       "            window._Plotly = Plotly;\n",
       "        });\n",
       "        }\n",
       "        </script>\n",
       "        "
      ]
     },
     "metadata": {},
     "output_type": "display_data"
    }
   ],
   "source": [
    "import numpy as np\n",
    "import pandas as pd\n",
    "import matplotlib.pyplot as plt\n",
    "%matplotlib inline\n",
    "\n",
    "import plotly.graph_objs as go\n",
    "import plotly.offline as py\n",
    "import plotly.express as px\n",
    "import seaborn as sn\n",
    "\n",
    "from numpy import percentile\n",
    "\n",
    "py.init_notebook_mode(connected=True)"
   ]
  },
  {
   "cell_type": "markdown",
   "metadata": {},
   "source": [
    "### Independent variables"
   ]
  },
  {
   "cell_type": "markdown",
   "metadata": {},
   "source": [
    "#### City of Toronto Open Data and KSI TPS open data"
   ]
  },
  {
   "cell_type": "code",
   "execution_count": 63,
   "metadata": {},
   "outputs": [],
   "source": [
    "data = pd.read_csv(\"1_open_Data\\INDICATORS_final.csv\")"
   ]
  },
  {
   "cell_type": "code",
   "execution_count": 166,
   "metadata": {},
   "outputs": [
    {
     "data": {
      "text/html": [
       "<div>\n",
       "<style scoped>\n",
       "    .dataframe tbody tr th:only-of-type {\n",
       "        vertical-align: middle;\n",
       "    }\n",
       "\n",
       "    .dataframe tbody tr th {\n",
       "        vertical-align: top;\n",
       "    }\n",
       "\n",
       "    .dataframe thead th {\n",
       "        text-align: right;\n",
       "    }\n",
       "</style>\n",
       "<table border=\"1\" class=\"dataframe\">\n",
       "  <thead>\n",
       "    <tr style=\"text-align: right;\">\n",
       "      <th></th>\n",
       "      <th>Neighbourhood</th>\n",
       "      <th>Hood_ID</th>\n",
       "      <th>Population</th>\n",
       "      <th>Assault_Rate_2019</th>\n",
       "      <th>AutoTheft_Rate_2019</th>\n",
       "      <th>BreakandEnter_Rate_2019</th>\n",
       "      <th>Homicide_Rate_2019</th>\n",
       "      <th>Robbery_Rate_2019</th>\n",
       "      <th>TheftOver_Rate_2019</th>\n",
       "      <th>Shape__Area</th>\n",
       "      <th>...</th>\n",
       "      <th>Robbery</th>\n",
       "      <th>Theft Over</th>\n",
       "      <th>KSI</th>\n",
       "      <th>TotalYouthServices</th>\n",
       "      <th>CommunityHousing</th>\n",
       "      <th>PlacesOfWorship</th>\n",
       "      <th>SocialHousing</th>\n",
       "      <th>TPSFacilities_2km</th>\n",
       "      <th>TPSFacilities_5km</th>\n",
       "      <th>TPSFacilities_10km</th>\n",
       "    </tr>\n",
       "  </thead>\n",
       "  <tbody>\n",
       "    <tr>\n",
       "      <th>0</th>\n",
       "      <td>West Humber-Clairville</td>\n",
       "      <td>1</td>\n",
       "      <td>33312</td>\n",
       "      <td>795.5</td>\n",
       "      <td>1446.9</td>\n",
       "      <td>396.3</td>\n",
       "      <td>6.0</td>\n",
       "      <td>210.1</td>\n",
       "      <td>189.1</td>\n",
       "      <td>3.014532e+07</td>\n",
       "      <td>...</td>\n",
       "      <td>550</td>\n",
       "      <td>310</td>\n",
       "      <td>170</td>\n",
       "      <td>15</td>\n",
       "      <td>6</td>\n",
       "      <td>37</td>\n",
       "      <td>950</td>\n",
       "      <td>0</td>\n",
       "      <td>1</td>\n",
       "      <td>5</td>\n",
       "    </tr>\n",
       "    <tr>\n",
       "      <th>1</th>\n",
       "      <td>Mount Olive-Silverstone-Jamestown</td>\n",
       "      <td>2</td>\n",
       "      <td>32954</td>\n",
       "      <td>813.3</td>\n",
       "      <td>267.0</td>\n",
       "      <td>109.2</td>\n",
       "      <td>9.1</td>\n",
       "      <td>166.9</td>\n",
       "      <td>27.3</td>\n",
       "      <td>4.637542e+06</td>\n",
       "      <td>...</td>\n",
       "      <td>462</td>\n",
       "      <td>26</td>\n",
       "      <td>52</td>\n",
       "      <td>13</td>\n",
       "      <td>103</td>\n",
       "      <td>4</td>\n",
       "      <td>1288</td>\n",
       "      <td>1</td>\n",
       "      <td>3</td>\n",
       "      <td>4</td>\n",
       "    </tr>\n",
       "    <tr>\n",
       "      <th>2</th>\n",
       "      <td>Thistletown-Beaumond Heights</td>\n",
       "      <td>3</td>\n",
       "      <td>10360</td>\n",
       "      <td>714.3</td>\n",
       "      <td>482.6</td>\n",
       "      <td>125.5</td>\n",
       "      <td>0.0</td>\n",
       "      <td>67.6</td>\n",
       "      <td>29.0</td>\n",
       "      <td>3.339481e+06</td>\n",
       "      <td>...</td>\n",
       "      <td>90</td>\n",
       "      <td>14</td>\n",
       "      <td>31</td>\n",
       "      <td>5</td>\n",
       "      <td>30</td>\n",
       "      <td>9</td>\n",
       "      <td>372</td>\n",
       "      <td>1</td>\n",
       "      <td>3</td>\n",
       "      <td>5</td>\n",
       "    </tr>\n",
       "    <tr>\n",
       "      <th>3</th>\n",
       "      <td>Rexdale-Kipling</td>\n",
       "      <td>4</td>\n",
       "      <td>10529</td>\n",
       "      <td>588.8</td>\n",
       "      <td>474.9</td>\n",
       "      <td>142.5</td>\n",
       "      <td>19.0</td>\n",
       "      <td>218.4</td>\n",
       "      <td>28.5</td>\n",
       "      <td>2.505576e+06</td>\n",
       "      <td>...</td>\n",
       "      <td>121</td>\n",
       "      <td>9</td>\n",
       "      <td>29</td>\n",
       "      <td>1</td>\n",
       "      <td>15</td>\n",
       "      <td>3</td>\n",
       "      <td>308</td>\n",
       "      <td>0</td>\n",
       "      <td>3</td>\n",
       "      <td>6</td>\n",
       "    </tr>\n",
       "    <tr>\n",
       "      <th>4</th>\n",
       "      <td>Elms-Old Rexdale</td>\n",
       "      <td>5</td>\n",
       "      <td>9456</td>\n",
       "      <td>708.5</td>\n",
       "      <td>296.1</td>\n",
       "      <td>105.8</td>\n",
       "      <td>0.0</td>\n",
       "      <td>148.1</td>\n",
       "      <td>42.3</td>\n",
       "      <td>2.931145e+06</td>\n",
       "      <td>...</td>\n",
       "      <td>81</td>\n",
       "      <td>9</td>\n",
       "      <td>1</td>\n",
       "      <td>4</td>\n",
       "      <td>14</td>\n",
       "      <td>2</td>\n",
       "      <td>358</td>\n",
       "      <td>0</td>\n",
       "      <td>3</td>\n",
       "      <td>8</td>\n",
       "    </tr>\n",
       "    <tr>\n",
       "      <th>...</th>\n",
       "      <td>...</td>\n",
       "      <td>...</td>\n",
       "      <td>...</td>\n",
       "      <td>...</td>\n",
       "      <td>...</td>\n",
       "      <td>...</td>\n",
       "      <td>...</td>\n",
       "      <td>...</td>\n",
       "      <td>...</td>\n",
       "      <td>...</td>\n",
       "      <td>...</td>\n",
       "      <td>...</td>\n",
       "      <td>...</td>\n",
       "      <td>...</td>\n",
       "      <td>...</td>\n",
       "      <td>...</td>\n",
       "      <td>...</td>\n",
       "      <td>...</td>\n",
       "      <td>...</td>\n",
       "      <td>...</td>\n",
       "      <td>...</td>\n",
       "    </tr>\n",
       "    <tr>\n",
       "      <th>135</th>\n",
       "      <td>West Hill</td>\n",
       "      <td>136</td>\n",
       "      <td>27392</td>\n",
       "      <td>1573.5</td>\n",
       "      <td>164.3</td>\n",
       "      <td>284.8</td>\n",
       "      <td>7.3</td>\n",
       "      <td>259.2</td>\n",
       "      <td>14.6</td>\n",
       "      <td>9.625440e+06</td>\n",
       "      <td>...</td>\n",
       "      <td>390</td>\n",
       "      <td>38</td>\n",
       "      <td>31</td>\n",
       "      <td>15</td>\n",
       "      <td>26</td>\n",
       "      <td>11</td>\n",
       "      <td>2052</td>\n",
       "      <td>1</td>\n",
       "      <td>1</td>\n",
       "      <td>4</td>\n",
       "    </tr>\n",
       "    <tr>\n",
       "      <th>136</th>\n",
       "      <td>Woburn</td>\n",
       "      <td>137</td>\n",
       "      <td>53485</td>\n",
       "      <td>798.4</td>\n",
       "      <td>112.2</td>\n",
       "      <td>187.0</td>\n",
       "      <td>0.0</td>\n",
       "      <td>125.3</td>\n",
       "      <td>15.0</td>\n",
       "      <td>1.233407e+07</td>\n",
       "      <td>...</td>\n",
       "      <td>501</td>\n",
       "      <td>82</td>\n",
       "      <td>161</td>\n",
       "      <td>32</td>\n",
       "      <td>26</td>\n",
       "      <td>27</td>\n",
       "      <td>2594</td>\n",
       "      <td>0</td>\n",
       "      <td>2</td>\n",
       "      <td>7</td>\n",
       "    </tr>\n",
       "    <tr>\n",
       "      <th>137</th>\n",
       "      <td>Eglinton East</td>\n",
       "      <td>138</td>\n",
       "      <td>22776</td>\n",
       "      <td>851.8</td>\n",
       "      <td>122.9</td>\n",
       "      <td>254.7</td>\n",
       "      <td>8.8</td>\n",
       "      <td>118.5</td>\n",
       "      <td>35.1</td>\n",
       "      <td>3.223146e+06</td>\n",
       "      <td>...</td>\n",
       "      <td>243</td>\n",
       "      <td>31</td>\n",
       "      <td>57</td>\n",
       "      <td>10</td>\n",
       "      <td>12</td>\n",
       "      <td>4</td>\n",
       "      <td>885</td>\n",
       "      <td>0</td>\n",
       "      <td>2</td>\n",
       "      <td>8</td>\n",
       "    </tr>\n",
       "    <tr>\n",
       "      <th>138</th>\n",
       "      <td>Scarborough Village</td>\n",
       "      <td>139</td>\n",
       "      <td>16724</td>\n",
       "      <td>1046.4</td>\n",
       "      <td>107.6</td>\n",
       "      <td>239.2</td>\n",
       "      <td>0.0</td>\n",
       "      <td>167.4</td>\n",
       "      <td>12.0</td>\n",
       "      <td>3.151015e+06</td>\n",
       "      <td>...</td>\n",
       "      <td>150</td>\n",
       "      <td>16</td>\n",
       "      <td>36</td>\n",
       "      <td>2</td>\n",
       "      <td>3</td>\n",
       "      <td>5</td>\n",
       "      <td>788</td>\n",
       "      <td>0</td>\n",
       "      <td>2</td>\n",
       "      <td>5</td>\n",
       "    </tr>\n",
       "    <tr>\n",
       "      <th>139</th>\n",
       "      <td>Guildwood</td>\n",
       "      <td>140</td>\n",
       "      <td>9917</td>\n",
       "      <td>282.3</td>\n",
       "      <td>30.3</td>\n",
       "      <td>100.8</td>\n",
       "      <td>10.1</td>\n",
       "      <td>70.6</td>\n",
       "      <td>10.1</td>\n",
       "      <td>3.804331e+06</td>\n",
       "      <td>...</td>\n",
       "      <td>49</td>\n",
       "      <td>10</td>\n",
       "      <td>12</td>\n",
       "      <td>0</td>\n",
       "      <td>0</td>\n",
       "      <td>3</td>\n",
       "      <td>48</td>\n",
       "      <td>0</td>\n",
       "      <td>1</td>\n",
       "      <td>5</td>\n",
       "    </tr>\n",
       "  </tbody>\n",
       "</table>\n",
       "<p>140 rows × 24 columns</p>\n",
       "</div>"
      ],
      "text/plain": [
       "                         Neighbourhood  Hood_ID  Population  \\\n",
       "0               West Humber-Clairville        1       33312   \n",
       "1    Mount Olive-Silverstone-Jamestown        2       32954   \n",
       "2         Thistletown-Beaumond Heights        3       10360   \n",
       "3                      Rexdale-Kipling        4       10529   \n",
       "4                     Elms-Old Rexdale        5        9456   \n",
       "..                                 ...      ...         ...   \n",
       "135                          West Hill      136       27392   \n",
       "136                             Woburn      137       53485   \n",
       "137                      Eglinton East      138       22776   \n",
       "138                Scarborough Village      139       16724   \n",
       "139                          Guildwood      140        9917   \n",
       "\n",
       "     Assault_Rate_2019  AutoTheft_Rate_2019  BreakandEnter_Rate_2019  \\\n",
       "0                795.5               1446.9                    396.3   \n",
       "1                813.3                267.0                    109.2   \n",
       "2                714.3                482.6                    125.5   \n",
       "3                588.8                474.9                    142.5   \n",
       "4                708.5                296.1                    105.8   \n",
       "..                 ...                  ...                      ...   \n",
       "135             1573.5                164.3                    284.8   \n",
       "136              798.4                112.2                    187.0   \n",
       "137              851.8                122.9                    254.7   \n",
       "138             1046.4                107.6                    239.2   \n",
       "139              282.3                 30.3                    100.8   \n",
       "\n",
       "     Homicide_Rate_2019  Robbery_Rate_2019  TheftOver_Rate_2019   Shape__Area  \\\n",
       "0                   6.0              210.1                189.1  3.014532e+07   \n",
       "1                   9.1              166.9                 27.3  4.637542e+06   \n",
       "2                   0.0               67.6                 29.0  3.339481e+06   \n",
       "3                  19.0              218.4                 28.5  2.505576e+06   \n",
       "4                   0.0              148.1                 42.3  2.931145e+06   \n",
       "..                  ...                ...                  ...           ...   \n",
       "135                 7.3              259.2                 14.6  9.625440e+06   \n",
       "136                 0.0              125.3                 15.0  1.233407e+07   \n",
       "137                 8.8              118.5                 35.1  3.223146e+06   \n",
       "138                 0.0              167.4                 12.0  3.151015e+06   \n",
       "139                10.1               70.6                 10.1  3.804331e+06   \n",
       "\n",
       "     ...  Robbery  Theft Over  KSI  TotalYouthServices  CommunityHousing  \\\n",
       "0    ...      550         310  170                  15                 6   \n",
       "1    ...      462          26   52                  13               103   \n",
       "2    ...       90          14   31                   5                30   \n",
       "3    ...      121           9   29                   1                15   \n",
       "4    ...       81           9    1                   4                14   \n",
       "..   ...      ...         ...  ...                 ...               ...   \n",
       "135  ...      390          38   31                  15                26   \n",
       "136  ...      501          82  161                  32                26   \n",
       "137  ...      243          31   57                  10                12   \n",
       "138  ...      150          16   36                   2                 3   \n",
       "139  ...       49          10   12                   0                 0   \n",
       "\n",
       "     PlacesOfWorship  SocialHousing  TPSFacilities_2km  TPSFacilities_5km  \\\n",
       "0                 37            950                  0                  1   \n",
       "1                  4           1288                  1                  3   \n",
       "2                  9            372                  1                  3   \n",
       "3                  3            308                  0                  3   \n",
       "4                  2            358                  0                  3   \n",
       "..               ...            ...                ...                ...   \n",
       "135               11           2052                  1                  1   \n",
       "136               27           2594                  0                  2   \n",
       "137                4            885                  0                  2   \n",
       "138                5            788                  0                  2   \n",
       "139                3             48                  0                  1   \n",
       "\n",
       "     TPSFacilities_10km  \n",
       "0                     5  \n",
       "1                     4  \n",
       "2                     5  \n",
       "3                     6  \n",
       "4                     8  \n",
       "..                  ...  \n",
       "135                   4  \n",
       "136                   7  \n",
       "137                   8  \n",
       "138                   5  \n",
       "139                   5  \n",
       "\n",
       "[140 rows x 24 columns]"
      ]
     },
     "execution_count": 166,
     "metadata": {},
     "output_type": "execute_result"
    }
   ],
   "source": [
    "data"
   ]
  },
  {
   "cell_type": "code",
   "execution_count": 175,
   "metadata": {},
   "outputs": [],
   "source": [
    "#data.to_csv(\"2_Output/4_mse/data_index.csv\")"
   ]
  },
  {
   "cell_type": "code",
   "execution_count": 64,
   "metadata": {},
   "outputs": [
    {
     "data": {
      "text/plain": [
       "Neighbourhood               object\n",
       "Hood_ID                      int64\n",
       "Population                   int64\n",
       "Assault_Rate_2019          float64\n",
       "AutoTheft_Rate_2019        float64\n",
       "BreakandEnter_Rate_2019    float64\n",
       "Homicide_Rate_2019         float64\n",
       "Robbery_Rate_2019          float64\n",
       "TheftOver_Rate_2019        float64\n",
       "Shape__Area                float64\n",
       "Shape__Length              float64\n",
       "Assault                      int64\n",
       "Auto Theft                   int64\n",
       "Break and Enter              int64\n",
       "Robbery                      int64\n",
       "Theft Over                   int64\n",
       "KSI                          int64\n",
       "TotalYouthServices           int64\n",
       "CommunityHousing             int64\n",
       "PlacesOfWorship              int64\n",
       "SocialHousing                int64\n",
       "TPSFacilities_2km            int64\n",
       "TPSFacilities_5km            int64\n",
       "TPSFacilities_10km           int64\n",
       "dtype: object"
      ]
     },
     "execution_count": 64,
     "metadata": {},
     "output_type": "execute_result"
    }
   ],
   "source": [
    "data.dtypes"
   ]
  },
  {
   "cell_type": "code",
   "execution_count": 67,
   "metadata": {},
   "outputs": [
    {
     "data": {
      "text/html": [
       "<div>\n",
       "<style scoped>\n",
       "    .dataframe tbody tr th:only-of-type {\n",
       "        vertical-align: middle;\n",
       "    }\n",
       "\n",
       "    .dataframe tbody tr th {\n",
       "        vertical-align: top;\n",
       "    }\n",
       "\n",
       "    .dataframe thead th {\n",
       "        text-align: right;\n",
       "    }\n",
       "</style>\n",
       "<table border=\"1\" class=\"dataframe\">\n",
       "  <thead>\n",
       "    <tr style=\"text-align: right;\">\n",
       "      <th></th>\n",
       "      <th>Population</th>\n",
       "      <th>KSI</th>\n",
       "      <th>TotalYouthServices</th>\n",
       "      <th>CommunityHousing</th>\n",
       "      <th>PlacesOfWorship</th>\n",
       "      <th>SocialHousing</th>\n",
       "      <th>TPSFacilities_2km</th>\n",
       "      <th>TPSFacilities_5km</th>\n",
       "      <th>TPSFacilities_10km</th>\n",
       "    </tr>\n",
       "  </thead>\n",
       "  <tbody>\n",
       "    <tr>\n",
       "      <th>0</th>\n",
       "      <td>33312</td>\n",
       "      <td>170</td>\n",
       "      <td>15</td>\n",
       "      <td>6</td>\n",
       "      <td>37</td>\n",
       "      <td>950</td>\n",
       "      <td>0</td>\n",
       "      <td>1</td>\n",
       "      <td>5</td>\n",
       "    </tr>\n",
       "    <tr>\n",
       "      <th>1</th>\n",
       "      <td>32954</td>\n",
       "      <td>52</td>\n",
       "      <td>13</td>\n",
       "      <td>103</td>\n",
       "      <td>4</td>\n",
       "      <td>1288</td>\n",
       "      <td>1</td>\n",
       "      <td>3</td>\n",
       "      <td>4</td>\n",
       "    </tr>\n",
       "    <tr>\n",
       "      <th>2</th>\n",
       "      <td>10360</td>\n",
       "      <td>31</td>\n",
       "      <td>5</td>\n",
       "      <td>30</td>\n",
       "      <td>9</td>\n",
       "      <td>372</td>\n",
       "      <td>1</td>\n",
       "      <td>3</td>\n",
       "      <td>5</td>\n",
       "    </tr>\n",
       "    <tr>\n",
       "      <th>3</th>\n",
       "      <td>10529</td>\n",
       "      <td>29</td>\n",
       "      <td>1</td>\n",
       "      <td>15</td>\n",
       "      <td>3</td>\n",
       "      <td>308</td>\n",
       "      <td>0</td>\n",
       "      <td>3</td>\n",
       "      <td>6</td>\n",
       "    </tr>\n",
       "    <tr>\n",
       "      <th>4</th>\n",
       "      <td>9456</td>\n",
       "      <td>1</td>\n",
       "      <td>4</td>\n",
       "      <td>14</td>\n",
       "      <td>2</td>\n",
       "      <td>358</td>\n",
       "      <td>0</td>\n",
       "      <td>3</td>\n",
       "      <td>8</td>\n",
       "    </tr>\n",
       "  </tbody>\n",
       "</table>\n",
       "</div>"
      ],
      "text/plain": [
       "   Population  KSI  TotalYouthServices  CommunityHousing  PlacesOfWorship  \\\n",
       "0       33312  170                  15                 6               37   \n",
       "1       32954   52                  13               103                4   \n",
       "2       10360   31                   5                30                9   \n",
       "3       10529   29                   1                15                3   \n",
       "4        9456    1                   4                14                2   \n",
       "\n",
       "   SocialHousing  TPSFacilities_2km  TPSFacilities_5km  TPSFacilities_10km  \n",
       "0            950                  0                  1                   5  \n",
       "1           1288                  1                  3                   4  \n",
       "2            372                  1                  3                   5  \n",
       "3            308                  0                  3                   6  \n",
       "4            358                  0                  3                   8  "
      ]
     },
     "execution_count": 67,
     "metadata": {},
     "output_type": "execute_result"
    }
   ],
   "source": [
    "X = data.iloc[:,[2,16,17,18,19,20,21,22,23]]\n",
    "X.head()"
   ]
  },
  {
   "cell_type": "code",
   "execution_count": 6,
   "metadata": {},
   "outputs": [
    {
     "data": {
      "text/plain": [
       "(140, 9)"
      ]
     },
     "execution_count": 6,
     "metadata": {},
     "output_type": "execute_result"
    }
   ],
   "source": [
    "X.shape\n"
   ]
  },
  {
   "cell_type": "code",
   "execution_count": 68,
   "metadata": {},
   "outputs": [
    {
     "data": {
      "text/plain": [
       "Population            int64\n",
       "KSI                   int64\n",
       "TotalYouthServices    int64\n",
       "CommunityHousing      int64\n",
       "PlacesOfWorship       int64\n",
       "SocialHousing         int64\n",
       "TPSFacilities_2km     int64\n",
       "TPSFacilities_5km     int64\n",
       "TPSFacilities_10km    int64\n",
       "dtype: object"
      ]
     },
     "execution_count": 68,
     "metadata": {},
     "output_type": "execute_result"
    }
   ],
   "source": [
    "X.dtypes"
   ]
  },
  {
   "cell_type": "code",
   "execution_count": 8,
   "metadata": {},
   "outputs": [
    {
     "data": {
      "text/plain": [
       "['Population',\n",
       " 'KSI',\n",
       " 'TotalYouthServices',\n",
       " 'CommunityHousing',\n",
       " 'PlacesOfWorship',\n",
       " 'SocialHousing',\n",
       " 'TPSFacilities_2km',\n",
       " 'TPSFacilities_5km',\n",
       " 'TPSFacilities_10km']"
      ]
     },
     "execution_count": 8,
     "metadata": {},
     "output_type": "execute_result"
    }
   ],
   "source": [
    "X_numeric_col = list(X.select_dtypes(include=['int64']).columns)\n",
    "X_numeric_col"
   ]
  },
  {
   "cell_type": "code",
   "execution_count": 74,
   "metadata": {},
   "outputs": [],
   "source": [
    "# Import library for VIF\n",
    "from statsmodels.stats.outliers_influence import variance_inflation_factor"
   ]
  },
  {
   "cell_type": "code",
   "execution_count": null,
   "metadata": {},
   "outputs": [],
   "source": [
    "# Check for MultiColinearity"
   ]
  },
  {
   "cell_type": "code",
   "execution_count": 75,
   "metadata": {},
   "outputs": [],
   "source": [
    "def calc_vif(X):\n",
    "\n",
    "    # Calculating VIF\n",
    "    vif = pd.DataFrame()\n",
    "    vif[\"variables\"] = X.columns\n",
    "    vif[\"VIF\"] = [variance_inflation_factor(X.values, i) for i in range(X.shape[1])]\n",
    "\n",
    "    return(vif)"
   ]
  },
  {
   "cell_type": "code",
   "execution_count": 76,
   "metadata": {},
   "outputs": [
    {
     "data": {
      "text/html": [
       "<div>\n",
       "<style scoped>\n",
       "    .dataframe tbody tr th:only-of-type {\n",
       "        vertical-align: middle;\n",
       "    }\n",
       "\n",
       "    .dataframe tbody tr th {\n",
       "        vertical-align: top;\n",
       "    }\n",
       "\n",
       "    .dataframe thead th {\n",
       "        text-align: right;\n",
       "    }\n",
       "</style>\n",
       "<table border=\"1\" class=\"dataframe\">\n",
       "  <thead>\n",
       "    <tr style=\"text-align: right;\">\n",
       "      <th></th>\n",
       "      <th>variables</th>\n",
       "      <th>VIF</th>\n",
       "    </tr>\n",
       "  </thead>\n",
       "  <tbody>\n",
       "    <tr>\n",
       "      <th>0</th>\n",
       "      <td>Population</td>\n",
       "      <td>9.320314</td>\n",
       "    </tr>\n",
       "    <tr>\n",
       "      <th>1</th>\n",
       "      <td>KSI</td>\n",
       "      <td>7.958089</td>\n",
       "    </tr>\n",
       "    <tr>\n",
       "      <th>2</th>\n",
       "      <td>TotalYouthServices</td>\n",
       "      <td>3.691091</td>\n",
       "    </tr>\n",
       "    <tr>\n",
       "      <th>3</th>\n",
       "      <td>CommunityHousing</td>\n",
       "      <td>1.671550</td>\n",
       "    </tr>\n",
       "    <tr>\n",
       "      <th>4</th>\n",
       "      <td>PlacesOfWorship</td>\n",
       "      <td>4.466221</td>\n",
       "    </tr>\n",
       "    <tr>\n",
       "      <th>5</th>\n",
       "      <td>SocialHousing</td>\n",
       "      <td>4.116339</td>\n",
       "    </tr>\n",
       "    <tr>\n",
       "      <th>6</th>\n",
       "      <td>TPSFacilities_2km</td>\n",
       "      <td>2.540298</td>\n",
       "    </tr>\n",
       "    <tr>\n",
       "      <th>7</th>\n",
       "      <td>TPSFacilities_5km</td>\n",
       "      <td>7.962128</td>\n",
       "    </tr>\n",
       "    <tr>\n",
       "      <th>8</th>\n",
       "      <td>TPSFacilities_10km</td>\n",
       "      <td>8.122340</td>\n",
       "    </tr>\n",
       "  </tbody>\n",
       "</table>\n",
       "</div>"
      ],
      "text/plain": [
       "            variables       VIF\n",
       "0          Population  9.320314\n",
       "1                 KSI  7.958089\n",
       "2  TotalYouthServices  3.691091\n",
       "3    CommunityHousing  1.671550\n",
       "4     PlacesOfWorship  4.466221\n",
       "5       SocialHousing  4.116339\n",
       "6   TPSFacilities_2km  2.540298\n",
       "7   TPSFacilities_5km  7.962128\n",
       "8  TPSFacilities_10km  8.122340"
      ]
     },
     "execution_count": 76,
     "metadata": {},
     "output_type": "execute_result"
    }
   ],
   "source": [
    "calc_vif(X)"
   ]
  },
  {
   "cell_type": "code",
   "execution_count": 79,
   "metadata": {},
   "outputs": [
    {
     "data": {
      "text/html": [
       "<div>\n",
       "<style scoped>\n",
       "    .dataframe tbody tr th:only-of-type {\n",
       "        vertical-align: middle;\n",
       "    }\n",
       "\n",
       "    .dataframe tbody tr th {\n",
       "        vertical-align: top;\n",
       "    }\n",
       "\n",
       "    .dataframe thead th {\n",
       "        text-align: right;\n",
       "    }\n",
       "</style>\n",
       "<table border=\"1\" class=\"dataframe\">\n",
       "  <thead>\n",
       "    <tr style=\"text-align: right;\">\n",
       "      <th></th>\n",
       "      <th>KSI</th>\n",
       "      <th>TotalYouthServices</th>\n",
       "      <th>CommunityHousing</th>\n",
       "      <th>PlacesOfWorship</th>\n",
       "      <th>SocialHousing</th>\n",
       "    </tr>\n",
       "  </thead>\n",
       "  <tbody>\n",
       "    <tr>\n",
       "      <th>0</th>\n",
       "      <td>170</td>\n",
       "      <td>15</td>\n",
       "      <td>6</td>\n",
       "      <td>37</td>\n",
       "      <td>950</td>\n",
       "    </tr>\n",
       "    <tr>\n",
       "      <th>1</th>\n",
       "      <td>52</td>\n",
       "      <td>13</td>\n",
       "      <td>103</td>\n",
       "      <td>4</td>\n",
       "      <td>1288</td>\n",
       "    </tr>\n",
       "    <tr>\n",
       "      <th>2</th>\n",
       "      <td>31</td>\n",
       "      <td>5</td>\n",
       "      <td>30</td>\n",
       "      <td>9</td>\n",
       "      <td>372</td>\n",
       "    </tr>\n",
       "    <tr>\n",
       "      <th>3</th>\n",
       "      <td>29</td>\n",
       "      <td>1</td>\n",
       "      <td>15</td>\n",
       "      <td>3</td>\n",
       "      <td>308</td>\n",
       "    </tr>\n",
       "    <tr>\n",
       "      <th>4</th>\n",
       "      <td>1</td>\n",
       "      <td>4</td>\n",
       "      <td>14</td>\n",
       "      <td>2</td>\n",
       "      <td>358</td>\n",
       "    </tr>\n",
       "  </tbody>\n",
       "</table>\n",
       "</div>"
      ],
      "text/plain": [
       "   KSI  TotalYouthServices  CommunityHousing  PlacesOfWorship  SocialHousing\n",
       "0  170                  15                 6               37            950\n",
       "1   52                  13               103                4           1288\n",
       "2   31                   5                30                9            372\n",
       "3   29                   1                15                3            308\n",
       "4    1                   4                14                2            358"
      ]
     },
     "execution_count": 79,
     "metadata": {},
     "output_type": "execute_result"
    }
   ],
   "source": [
    "X_vif = data.iloc[:,[16,17,18,19,20]]\n",
    "X_vif.head()"
   ]
  },
  {
   "cell_type": "code",
   "execution_count": 80,
   "metadata": {},
   "outputs": [
    {
     "data": {
      "text/html": [
       "<div>\n",
       "<style scoped>\n",
       "    .dataframe tbody tr th:only-of-type {\n",
       "        vertical-align: middle;\n",
       "    }\n",
       "\n",
       "    .dataframe tbody tr th {\n",
       "        vertical-align: top;\n",
       "    }\n",
       "\n",
       "    .dataframe thead th {\n",
       "        text-align: right;\n",
       "    }\n",
       "</style>\n",
       "<table border=\"1\" class=\"dataframe\">\n",
       "  <thead>\n",
       "    <tr style=\"text-align: right;\">\n",
       "      <th></th>\n",
       "      <th>variables</th>\n",
       "      <th>VIF</th>\n",
       "    </tr>\n",
       "  </thead>\n",
       "  <tbody>\n",
       "    <tr>\n",
       "      <th>0</th>\n",
       "      <td>KSI</td>\n",
       "      <td>4.313983</td>\n",
       "    </tr>\n",
       "    <tr>\n",
       "      <th>1</th>\n",
       "      <td>TotalYouthServices</td>\n",
       "      <td>3.208671</td>\n",
       "    </tr>\n",
       "    <tr>\n",
       "      <th>2</th>\n",
       "      <td>CommunityHousing</td>\n",
       "      <td>1.605273</td>\n",
       "    </tr>\n",
       "    <tr>\n",
       "      <th>3</th>\n",
       "      <td>PlacesOfWorship</td>\n",
       "      <td>3.457927</td>\n",
       "    </tr>\n",
       "    <tr>\n",
       "      <th>4</th>\n",
       "      <td>SocialHousing</td>\n",
       "      <td>3.588368</td>\n",
       "    </tr>\n",
       "  </tbody>\n",
       "</table>\n",
       "</div>"
      ],
      "text/plain": [
       "            variables       VIF\n",
       "0                 KSI  4.313983\n",
       "1  TotalYouthServices  3.208671\n",
       "2    CommunityHousing  1.605273\n",
       "3     PlacesOfWorship  3.457927\n",
       "4       SocialHousing  3.588368"
      ]
     },
     "execution_count": 80,
     "metadata": {},
     "output_type": "execute_result"
    }
   ],
   "source": [
    "calc_vif(X_vif)"
   ]
  },
  {
   "cell_type": "markdown",
   "metadata": {},
   "source": [
    "#### Histogram of X features"
   ]
  },
  {
   "cell_type": "markdown",
   "metadata": {},
   "source": [
    "##### All features are skewed"
   ]
  },
  {
   "cell_type": "markdown",
   "metadata": {},
   "source": [
    "#### Histograms of Y dependent variables"
   ]
  },
  {
   "cell_type": "code",
   "execution_count": 66,
   "metadata": {},
   "outputs": [
    {
     "data": {
      "text/html": [
       "<div>\n",
       "<style scoped>\n",
       "    .dataframe tbody tr th:only-of-type {\n",
       "        vertical-align: middle;\n",
       "    }\n",
       "\n",
       "    .dataframe tbody tr th {\n",
       "        vertical-align: top;\n",
       "    }\n",
       "\n",
       "    .dataframe thead th {\n",
       "        text-align: right;\n",
       "    }\n",
       "</style>\n",
       "<table border=\"1\" class=\"dataframe\">\n",
       "  <thead>\n",
       "    <tr style=\"text-align: right;\">\n",
       "      <th></th>\n",
       "      <th>Assault</th>\n",
       "      <th>Auto Theft</th>\n",
       "      <th>Break and Enter</th>\n",
       "      <th>Robbery</th>\n",
       "      <th>Theft Over</th>\n",
       "    </tr>\n",
       "  </thead>\n",
       "  <tbody>\n",
       "    <tr>\n",
       "      <th>0</th>\n",
       "      <td>1799</td>\n",
       "      <td>2195</td>\n",
       "      <td>826</td>\n",
       "      <td>550</td>\n",
       "      <td>310</td>\n",
       "    </tr>\n",
       "    <tr>\n",
       "      <th>1</th>\n",
       "      <td>1516</td>\n",
       "      <td>374</td>\n",
       "      <td>193</td>\n",
       "      <td>462</td>\n",
       "      <td>26</td>\n",
       "    </tr>\n",
       "    <tr>\n",
       "      <th>2</th>\n",
       "      <td>320</td>\n",
       "      <td>152</td>\n",
       "      <td>114</td>\n",
       "      <td>90</td>\n",
       "      <td>14</td>\n",
       "    </tr>\n",
       "    <tr>\n",
       "      <th>3</th>\n",
       "      <td>412</td>\n",
       "      <td>172</td>\n",
       "      <td>95</td>\n",
       "      <td>121</td>\n",
       "      <td>9</td>\n",
       "    </tr>\n",
       "    <tr>\n",
       "      <th>4</th>\n",
       "      <td>325</td>\n",
       "      <td>113</td>\n",
       "      <td>63</td>\n",
       "      <td>81</td>\n",
       "      <td>9</td>\n",
       "    </tr>\n",
       "    <tr>\n",
       "      <th>...</th>\n",
       "      <td>...</td>\n",
       "      <td>...</td>\n",
       "      <td>...</td>\n",
       "      <td>...</td>\n",
       "      <td>...</td>\n",
       "    </tr>\n",
       "    <tr>\n",
       "      <th>135</th>\n",
       "      <td>2397</td>\n",
       "      <td>159</td>\n",
       "      <td>494</td>\n",
       "      <td>390</td>\n",
       "      <td>38</td>\n",
       "    </tr>\n",
       "    <tr>\n",
       "      <th>136</th>\n",
       "      <td>2292</td>\n",
       "      <td>276</td>\n",
       "      <td>628</td>\n",
       "      <td>501</td>\n",
       "      <td>82</td>\n",
       "    </tr>\n",
       "    <tr>\n",
       "      <th>137</th>\n",
       "      <td>1117</td>\n",
       "      <td>123</td>\n",
       "      <td>340</td>\n",
       "      <td>243</td>\n",
       "      <td>31</td>\n",
       "    </tr>\n",
       "    <tr>\n",
       "      <th>138</th>\n",
       "      <td>1000</td>\n",
       "      <td>103</td>\n",
       "      <td>248</td>\n",
       "      <td>150</td>\n",
       "      <td>16</td>\n",
       "    </tr>\n",
       "    <tr>\n",
       "      <th>139</th>\n",
       "      <td>245</td>\n",
       "      <td>16</td>\n",
       "      <td>87</td>\n",
       "      <td>49</td>\n",
       "      <td>10</td>\n",
       "    </tr>\n",
       "  </tbody>\n",
       "</table>\n",
       "<p>140 rows × 5 columns</p>\n",
       "</div>"
      ],
      "text/plain": [
       "     Assault  Auto Theft  Break and Enter  Robbery  Theft Over\n",
       "0       1799        2195              826      550         310\n",
       "1       1516         374              193      462          26\n",
       "2        320         152              114       90          14\n",
       "3        412         172               95      121           9\n",
       "4        325         113               63       81           9\n",
       "..       ...         ...              ...      ...         ...\n",
       "135     2397         159              494      390          38\n",
       "136     2292         276              628      501          82\n",
       "137     1117         123              340      243          31\n",
       "138     1000         103              248      150          16\n",
       "139      245          16               87       49          10\n",
       "\n",
       "[140 rows x 5 columns]"
      ]
     },
     "execution_count": 66,
     "metadata": {},
     "output_type": "execute_result"
    }
   ],
   "source": [
    "y = data.iloc[:,[11,12,13,14,15]]\n",
    "y"
   ]
  },
  {
   "cell_type": "code",
   "execution_count": 70,
   "metadata": {},
   "outputs": [
    {
     "data": {
      "text/html": [
       "<div>\n",
       "<style scoped>\n",
       "    .dataframe tbody tr th:only-of-type {\n",
       "        vertical-align: middle;\n",
       "    }\n",
       "\n",
       "    .dataframe tbody tr th {\n",
       "        vertical-align: top;\n",
       "    }\n",
       "\n",
       "    .dataframe thead th {\n",
       "        text-align: right;\n",
       "    }\n",
       "</style>\n",
       "<table border=\"1\" class=\"dataframe\">\n",
       "  <thead>\n",
       "    <tr style=\"text-align: right;\">\n",
       "      <th></th>\n",
       "      <th>Assault</th>\n",
       "      <th>KSI</th>\n",
       "      <th>TotalYouthServices</th>\n",
       "      <th>CommunityHousing</th>\n",
       "      <th>PlacesOfWorship</th>\n",
       "      <th>SocialHousing</th>\n",
       "    </tr>\n",
       "  </thead>\n",
       "  <tbody>\n",
       "    <tr>\n",
       "      <th>0</th>\n",
       "      <td>1799</td>\n",
       "      <td>170</td>\n",
       "      <td>15</td>\n",
       "      <td>6</td>\n",
       "      <td>37</td>\n",
       "      <td>950</td>\n",
       "    </tr>\n",
       "    <tr>\n",
       "      <th>1</th>\n",
       "      <td>1516</td>\n",
       "      <td>52</td>\n",
       "      <td>13</td>\n",
       "      <td>103</td>\n",
       "      <td>4</td>\n",
       "      <td>1288</td>\n",
       "    </tr>\n",
       "    <tr>\n",
       "      <th>2</th>\n",
       "      <td>320</td>\n",
       "      <td>31</td>\n",
       "      <td>5</td>\n",
       "      <td>30</td>\n",
       "      <td>9</td>\n",
       "      <td>372</td>\n",
       "    </tr>\n",
       "    <tr>\n",
       "      <th>3</th>\n",
       "      <td>412</td>\n",
       "      <td>29</td>\n",
       "      <td>1</td>\n",
       "      <td>15</td>\n",
       "      <td>3</td>\n",
       "      <td>308</td>\n",
       "    </tr>\n",
       "    <tr>\n",
       "      <th>4</th>\n",
       "      <td>325</td>\n",
       "      <td>1</td>\n",
       "      <td>4</td>\n",
       "      <td>14</td>\n",
       "      <td>2</td>\n",
       "      <td>358</td>\n",
       "    </tr>\n",
       "    <tr>\n",
       "      <th>...</th>\n",
       "      <td>...</td>\n",
       "      <td>...</td>\n",
       "      <td>...</td>\n",
       "      <td>...</td>\n",
       "      <td>...</td>\n",
       "      <td>...</td>\n",
       "    </tr>\n",
       "    <tr>\n",
       "      <th>135</th>\n",
       "      <td>2397</td>\n",
       "      <td>31</td>\n",
       "      <td>15</td>\n",
       "      <td>26</td>\n",
       "      <td>11</td>\n",
       "      <td>2052</td>\n",
       "    </tr>\n",
       "    <tr>\n",
       "      <th>136</th>\n",
       "      <td>2292</td>\n",
       "      <td>161</td>\n",
       "      <td>32</td>\n",
       "      <td>26</td>\n",
       "      <td>27</td>\n",
       "      <td>2594</td>\n",
       "    </tr>\n",
       "    <tr>\n",
       "      <th>137</th>\n",
       "      <td>1117</td>\n",
       "      <td>57</td>\n",
       "      <td>10</td>\n",
       "      <td>12</td>\n",
       "      <td>4</td>\n",
       "      <td>885</td>\n",
       "    </tr>\n",
       "    <tr>\n",
       "      <th>138</th>\n",
       "      <td>1000</td>\n",
       "      <td>36</td>\n",
       "      <td>2</td>\n",
       "      <td>3</td>\n",
       "      <td>5</td>\n",
       "      <td>788</td>\n",
       "    </tr>\n",
       "    <tr>\n",
       "      <th>139</th>\n",
       "      <td>245</td>\n",
       "      <td>12</td>\n",
       "      <td>0</td>\n",
       "      <td>0</td>\n",
       "      <td>3</td>\n",
       "      <td>48</td>\n",
       "    </tr>\n",
       "  </tbody>\n",
       "</table>\n",
       "<p>140 rows × 6 columns</p>\n",
       "</div>"
      ],
      "text/plain": [
       "     Assault  KSI  TotalYouthServices  CommunityHousing  PlacesOfWorship  \\\n",
       "0       1799  170                  15                 6               37   \n",
       "1       1516   52                  13               103                4   \n",
       "2        320   31                   5                30                9   \n",
       "3        412   29                   1                15                3   \n",
       "4        325    1                   4                14                2   \n",
       "..       ...  ...                 ...               ...              ...   \n",
       "135     2397   31                  15                26               11   \n",
       "136     2292  161                  32                26               27   \n",
       "137     1117   57                  10                12                4   \n",
       "138     1000   36                   2                 3                5   \n",
       "139      245   12                   0                 0                3   \n",
       "\n",
       "     SocialHousing  \n",
       "0              950  \n",
       "1             1288  \n",
       "2              372  \n",
       "3              308  \n",
       "4              358  \n",
       "..             ...  \n",
       "135           2052  \n",
       "136           2594  \n",
       "137            885  \n",
       "138            788  \n",
       "139             48  \n",
       "\n",
       "[140 rows x 6 columns]"
      ]
     },
     "execution_count": 70,
     "metadata": {},
     "output_type": "execute_result"
    }
   ],
   "source": [
    "assault_scatter=data.iloc[:,[11,16,17,18,19,20]]\n",
    "assault_scatter"
   ]
  },
  {
   "cell_type": "code",
   "execution_count": 71,
   "metadata": {},
   "outputs": [
    {
     "data": {
      "text/plain": [
       "array([[<matplotlib.axes._subplots.AxesSubplot object at 0x00000269ABDBA608>,\n",
       "        <matplotlib.axes._subplots.AxesSubplot object at 0x00000269AD0E7648>,\n",
       "        <matplotlib.axes._subplots.AxesSubplot object at 0x00000269AD3BB248>,\n",
       "        <matplotlib.axes._subplots.AxesSubplot object at 0x00000269AD09B9C8>,\n",
       "        <matplotlib.axes._subplots.AxesSubplot object at 0x00000269ABD0E748>,\n",
       "        <matplotlib.axes._subplots.AxesSubplot object at 0x00000269ABD74088>],\n",
       "       [<matplotlib.axes._subplots.AxesSubplot object at 0x00000269AD0ACDC8>,\n",
       "        <matplotlib.axes._subplots.AxesSubplot object at 0x00000269AD1AAB48>,\n",
       "        <matplotlib.axes._subplots.AxesSubplot object at 0x00000269AD1999C8>,\n",
       "        <matplotlib.axes._subplots.AxesSubplot object at 0x00000269AD202548>,\n",
       "        <matplotlib.axes._subplots.AxesSubplot object at 0x00000269AD06D708>,\n",
       "        <matplotlib.axes._subplots.AxesSubplot object at 0x00000269AD2D3808>],\n",
       "       [<matplotlib.axes._subplots.AxesSubplot object at 0x00000269AE5B9948>,\n",
       "        <matplotlib.axes._subplots.AxesSubplot object at 0x00000269AD105A48>,\n",
       "        <matplotlib.axes._subplots.AxesSubplot object at 0x00000269AE4EBB48>,\n",
       "        <matplotlib.axes._subplots.AxesSubplot object at 0x00000269AD331C88>,\n",
       "        <matplotlib.axes._subplots.AxesSubplot object at 0x00000269AD17DD88>,\n",
       "        <matplotlib.axes._subplots.AxesSubplot object at 0x00000269AE46DE08>],\n",
       "       [<matplotlib.axes._subplots.AxesSubplot object at 0x00000269AE3E6F48>,\n",
       "        <matplotlib.axes._subplots.AxesSubplot object at 0x00000269AE600088>,\n",
       "        <matplotlib.axes._subplots.AxesSubplot object at 0x00000269AE636188>,\n",
       "        <matplotlib.axes._subplots.AxesSubplot object at 0x00000269AE6702C8>,\n",
       "        <matplotlib.axes._subplots.AxesSubplot object at 0x00000269AE6A8348>,\n",
       "        <matplotlib.axes._subplots.AxesSubplot object at 0x00000269AE6E1448>],\n",
       "       [<matplotlib.axes._subplots.AxesSubplot object at 0x00000269AE719588>,\n",
       "        <matplotlib.axes._subplots.AxesSubplot object at 0x00000269AE758E88>,\n",
       "        <matplotlib.axes._subplots.AxesSubplot object at 0x00000269AE78B788>,\n",
       "        <matplotlib.axes._subplots.AxesSubplot object at 0x00000269AD0ED488>,\n",
       "        <matplotlib.axes._subplots.AxesSubplot object at 0x00000269AA4935C8>,\n",
       "        <matplotlib.axes._subplots.AxesSubplot object at 0x00000269AD07EB08>],\n",
       "       [<matplotlib.axes._subplots.AxesSubplot object at 0x00000269ABD84EC8>,\n",
       "        <matplotlib.axes._subplots.AxesSubplot object at 0x00000269AE4F4348>,\n",
       "        <matplotlib.axes._subplots.AxesSubplot object at 0x00000269ABE0D988>,\n",
       "        <matplotlib.axes._subplots.AxesSubplot object at 0x00000269ABDE2D48>,\n",
       "        <matplotlib.axes._subplots.AxesSubplot object at 0x00000269AE52D988>,\n",
       "        <matplotlib.axes._subplots.AxesSubplot object at 0x00000269ACFB9588>]],\n",
       "      dtype=object)"
      ]
     },
     "execution_count": 71,
     "metadata": {},
     "output_type": "execute_result"
    },
    {
     "data": {
      "image/png": "[encoded data removed]",
      "text/plain": [
       "<Figure size 720x720 with 36 Axes>"
      ]
     },
     "metadata": {
      "needs_background": "light"
     },
     "output_type": "display_data"
    }
   ],
   "source": [
    "pd.plotting.scatter_matrix(assault_scatter, figsize=(10,10))"
   ]
  },
  {
   "cell_type": "code",
   "execution_count": 56,
   "metadata": {
    "scrolled": true
   },
   "outputs": [
    {
     "data": {
      "image/png": "[encoded data removed]",
      "text/plain": [
       "<Figure size 432x288 with 1 Axes>"
      ]
     },
     "metadata": {
      "needs_background": "light"
     },
     "output_type": "display_data"
    }
   ],
   "source": [
    "data.iloc[:,[11]].plot.hist(grid=True, bins=20, rwidth=0.9,\n",
    "                   color='#607c8e')\n",
    "plt.title(data.iloc[:,[11]].columns)\n",
    "plt.xlabel('Counts')\n",
    "plt.ylabel('Number of Neighbourhoods')\n",
    "plt.grid(axis='y', alpha=0.75)"
   ]
  },
  {
   "cell_type": "code",
   "execution_count": 57,
   "metadata": {},
   "outputs": [
    {
     "data": {
      "image/png": "[encoded data removed]",
      "text/plain": [
       "<Figure size 432x288 with 1 Axes>"
      ]
     },
     "metadata": {
      "needs_background": "light"
     },
     "output_type": "display_data"
    }
   ],
   "source": [
    "data.iloc[:,[12]].plot.hist(grid=True, bins=20, rwidth=0.9,\n",
    "                   color='#607c8e')\n",
    "plt.title(data.iloc[:,[12]].columns)\n",
    "plt.xlabel('Counts')\n",
    "plt.ylabel('Number of Neighbourhoods')\n",
    "plt.grid(axis='y', alpha=0.75)"
   ]
  },
  {
   "cell_type": "code",
   "execution_count": 58,
   "metadata": {},
   "outputs": [
    {
     "data": {
      "image/png": "[encoded data removed]",
      "text/plain": [
       "<Figure size 432x288 with 1 Axes>"
      ]
     },
     "metadata": {
      "needs_background": "light"
     },
     "output_type": "display_data"
    }
   ],
   "source": [
    "data.iloc[:,[13]].plot.hist(grid=True, bins=20, rwidth=0.9,\n",
    "                   color='#607c8e')\n",
    "plt.title(data.iloc[:,[13]].columns)\n",
    "plt.xlabel('Counts')\n",
    "plt.ylabel('Number of Neighbourhoods')\n",
    "plt.grid(axis='y', alpha=0.75)"
   ]
  },
  {
   "cell_type": "code",
   "execution_count": 59,
   "metadata": {},
   "outputs": [
    {
     "data": {
      "image/png": "[encoded data removed]",
      "text/plain": [
       "<Figure size 432x288 with 1 Axes>"
      ]
     },
     "metadata": {
      "needs_background": "light"
     },
     "output_type": "display_data"
    }
   ],
   "source": [
    "data.iloc[:,[14]].plot.hist(grid=True, bins=20, rwidth=0.9,\n",
    "                   color='#607c8e')\n",
    "plt.title(data.iloc[:,[14]].columns)\n",
    "plt.xlabel('Counts')\n",
    "plt.ylabel('Number of Neighbourhoods')\n",
    "plt.grid(axis='y', alpha=0.75)"
   ]
  },
  {
   "cell_type": "code",
   "execution_count": 60,
   "metadata": {},
   "outputs": [
    {
     "data": {
      "image/png": "[encoded data removed]",
      "text/plain": [
       "<Figure size 432x288 with 1 Axes>"
      ]
     },
     "metadata": {
      "needs_background": "light"
     },
     "output_type": "display_data"
    }
   ],
   "source": [
    "data.iloc[:,[15]].plot.hist(grid=True, bins=20, rwidth=0.9,\n",
    "                   color='#607c8e')\n",
    "plt.title(data.iloc[:,[15]].columns)\n",
    "plt.xlabel('Counts')\n",
    "plt.ylabel('Number of Neighbourhoods')\n",
    "plt.grid(axis='y', alpha=0.75)"
   ]
  },
  {
   "cell_type": "code",
   "execution_count": null,
   "metadata": {},
   "outputs": [],
   "source": []
  },
  {
   "cell_type": "code",
   "execution_count": 236,
   "metadata": {},
   "outputs": [
    {
     "data": {
      "image/png": "[encoded data removed]",
      "text/plain": [
       "<Figure size 432x288 with 1 Axes>"
      ]
     },
     "metadata": {
      "needs_background": "light"
     },
     "output_type": "display_data"
    }
   ],
   "source": [
    "data.iloc[:,[16]].plot.hist(grid=True, bins=20, rwidth=0.9,\n",
    "                   color='#607c8e')\n",
    "plt.title(data.iloc[:,[16]].columns)\n",
    "plt.xlabel('Counts')\n",
    "plt.ylabel('Number of Neighbourhoods')\n",
    "plt.grid(axis='y', alpha=0.75)"
   ]
  },
  {
   "cell_type": "code",
   "execution_count": 237,
   "metadata": {},
   "outputs": [
    {
     "data": {
      "image/png": "[encoded data removed]",
      "text/plain": [
       "<Figure size 432x288 with 1 Axes>"
      ]
     },
     "metadata": {
      "needs_background": "light"
     },
     "output_type": "display_data"
    }
   ],
   "source": [
    "data.iloc[:,[17]].plot.hist(grid=True, bins=20, rwidth=0.9,\n",
    "                   color='#607c8e')\n",
    "plt.title(data.iloc[:,[17]].columns)\n",
    "plt.xlabel('Counts')\n",
    "plt.ylabel('Number of Neighbourhoods')\n",
    "plt.grid(axis='y', alpha=0.75)"
   ]
  },
  {
   "cell_type": "code",
   "execution_count": 238,
   "metadata": {},
   "outputs": [
    {
     "data": {
      "image/png": "[encoded data removed]",
      "text/plain": [
       "<Figure size 432x288 with 1 Axes>"
      ]
     },
     "metadata": {
      "needs_background": "light"
     },
     "output_type": "display_data"
    }
   ],
   "source": [
    "data.iloc[:,[18]].plot.hist(grid=True, bins=20, rwidth=0.9,\n",
    "                   color='#607c8e')\n",
    "plt.title(data.iloc[:,[18]].columns)\n",
    "plt.xlabel('Counts')\n",
    "plt.ylabel('Number of Neighbourhoods')\n",
    "plt.grid(axis='y', alpha=0.75)"
   ]
  },
  {
   "cell_type": "code",
   "execution_count": 239,
   "metadata": {},
   "outputs": [
    {
     "data": {
      "image/png": "[encoded data removed]",
      "text/plain": [
       "<Figure size 432x288 with 1 Axes>"
      ]
     },
     "metadata": {
      "needs_background": "light"
     },
     "output_type": "display_data"
    }
   ],
   "source": [
    "data.iloc[:,[19]].plot.hist(grid=True, bins=20, rwidth=0.9,\n",
    "                   color='#607c8e')\n",
    "plt.title(data.iloc[:,[19]].columns)\n",
    "plt.xlabel('Counts')\n",
    "plt.ylabel('Number of Neighbourhoods')\n",
    "plt.grid(axis='y', alpha=0.75)"
   ]
  },
  {
   "cell_type": "code",
   "execution_count": 242,
   "metadata": {},
   "outputs": [
    {
     "data": {
      "image/png": "[encoded data removed]",
      "text/plain": [
       "<Figure size 432x288 with 1 Axes>"
      ]
     },
     "metadata": {
      "needs_background": "light"
     },
     "output_type": "display_data"
    }
   ],
   "source": [
    "data.iloc[:,[20]].plot.hist(grid=True, bins=20, rwidth=0.9,\n",
    "                   color='#607c8e')\n",
    "plt.title(data.iloc[:,[20]].columns)\n",
    "plt.xlabel('Counts')\n",
    "plt.ylabel('Number of Neighbourhoods')\n",
    "plt.grid(axis='y', alpha=0.75)"
   ]
  },
  {
   "cell_type": "code",
   "execution_count": null,
   "metadata": {},
   "outputs": [],
   "source": []
  },
  {
   "cell_type": "code",
   "execution_count": null,
   "metadata": {},
   "outputs": [],
   "source": []
  },
  {
   "cell_type": "markdown",
   "metadata": {},
   "source": [
    "### Split data into training and test sets"
   ]
  },
  {
   "cell_type": "code",
   "execution_count": 12,
   "metadata": {},
   "outputs": [],
   "source": [
    "from sklearn.model_selection import train_test_split"
   ]
  },
  {
   "cell_type": "code",
   "execution_count": 20,
   "metadata": {},
   "outputs": [],
   "source": [
    "X_train, X_test, y_train, y_test = train_test_split(X, y, test_size=0.3, random_state=2020)"
   ]
  },
  {
   "cell_type": "code",
   "execution_count": 22,
   "metadata": {},
   "outputs": [
    {
     "data": {
      "text/html": [
       "<div>\n",
       "<style scoped>\n",
       "    .dataframe tbody tr th:only-of-type {\n",
       "        vertical-align: middle;\n",
       "    }\n",
       "\n",
       "    .dataframe tbody tr th {\n",
       "        vertical-align: top;\n",
       "    }\n",
       "\n",
       "    .dataframe thead th {\n",
       "        text-align: right;\n",
       "    }\n",
       "</style>\n",
       "<table border=\"1\" class=\"dataframe\">\n",
       "  <thead>\n",
       "    <tr style=\"text-align: right;\">\n",
       "      <th></th>\n",
       "      <th>Population</th>\n",
       "      <th>KSI</th>\n",
       "      <th>TotalYouthServices</th>\n",
       "      <th>CommunityHousing</th>\n",
       "      <th>PlacesOfWorship</th>\n",
       "      <th>SocialHousing</th>\n",
       "      <th>TPSFacilities_2km</th>\n",
       "      <th>TPSFacilities_5km</th>\n",
       "      <th>TPSFacilities_10km</th>\n",
       "    </tr>\n",
       "  </thead>\n",
       "  <tbody>\n",
       "    <tr>\n",
       "      <th>70</th>\n",
       "      <td>11669</td>\n",
       "      <td>34</td>\n",
       "      <td>10</td>\n",
       "      <td>50</td>\n",
       "      <td>7</td>\n",
       "      <td>860</td>\n",
       "      <td>2</td>\n",
       "      <td>5</td>\n",
       "      <td>16</td>\n",
       "    </tr>\n",
       "    <tr>\n",
       "      <th>36</th>\n",
       "      <td>16936</td>\n",
       "      <td>13</td>\n",
       "      <td>1</td>\n",
       "      <td>2</td>\n",
       "      <td>4</td>\n",
       "      <td>664</td>\n",
       "      <td>1</td>\n",
       "      <td>1</td>\n",
       "      <td>8</td>\n",
       "    </tr>\n",
       "    <tr>\n",
       "      <th>112</th>\n",
       "      <td>17992</td>\n",
       "      <td>30</td>\n",
       "      <td>4</td>\n",
       "      <td>2</td>\n",
       "      <td>12</td>\n",
       "      <td>1036</td>\n",
       "      <td>0</td>\n",
       "      <td>2</td>\n",
       "      <td>11</td>\n",
       "    </tr>\n",
       "    <tr>\n",
       "      <th>78</th>\n",
       "      <td>7607</td>\n",
       "      <td>47</td>\n",
       "      <td>11</td>\n",
       "      <td>1</td>\n",
       "      <td>11</td>\n",
       "      <td>326</td>\n",
       "      <td>2</td>\n",
       "      <td>10</td>\n",
       "      <td>15</td>\n",
       "    </tr>\n",
       "    <tr>\n",
       "      <th>99</th>\n",
       "      <td>11817</td>\n",
       "      <td>17</td>\n",
       "      <td>15</td>\n",
       "      <td>0</td>\n",
       "      <td>6</td>\n",
       "      <td>0</td>\n",
       "      <td>1</td>\n",
       "      <td>3</td>\n",
       "      <td>18</td>\n",
       "    </tr>\n",
       "    <tr>\n",
       "      <th>...</th>\n",
       "      <td>...</td>\n",
       "      <td>...</td>\n",
       "      <td>...</td>\n",
       "      <td>...</td>\n",
       "      <td>...</td>\n",
       "      <td>...</td>\n",
       "      <td>...</td>\n",
       "      <td>...</td>\n",
       "      <td>...</td>\n",
       "    </tr>\n",
       "    <tr>\n",
       "      <th>91</th>\n",
       "      <td>14133</td>\n",
       "      <td>28</td>\n",
       "      <td>5</td>\n",
       "      <td>6</td>\n",
       "      <td>9</td>\n",
       "      <td>59</td>\n",
       "      <td>0</td>\n",
       "      <td>6</td>\n",
       "      <td>17</td>\n",
       "    </tr>\n",
       "    <tr>\n",
       "      <th>118</th>\n",
       "      <td>27917</td>\n",
       "      <td>161</td>\n",
       "      <td>9</td>\n",
       "      <td>7</td>\n",
       "      <td>22</td>\n",
       "      <td>736</td>\n",
       "      <td>1</td>\n",
       "      <td>5</td>\n",
       "      <td>9</td>\n",
       "    </tr>\n",
       "    <tr>\n",
       "      <th>67</th>\n",
       "      <td>11916</td>\n",
       "      <td>25</td>\n",
       "      <td>10</td>\n",
       "      <td>6</td>\n",
       "      <td>5</td>\n",
       "      <td>98</td>\n",
       "      <td>0</td>\n",
       "      <td>5</td>\n",
       "      <td>17</td>\n",
       "    </tr>\n",
       "    <tr>\n",
       "      <th>136</th>\n",
       "      <td>53485</td>\n",
       "      <td>161</td>\n",
       "      <td>32</td>\n",
       "      <td>26</td>\n",
       "      <td>27</td>\n",
       "      <td>2594</td>\n",
       "      <td>0</td>\n",
       "      <td>2</td>\n",
       "      <td>7</td>\n",
       "    </tr>\n",
       "    <tr>\n",
       "      <th>96</th>\n",
       "      <td>12528</td>\n",
       "      <td>9</td>\n",
       "      <td>0</td>\n",
       "      <td>0</td>\n",
       "      <td>5</td>\n",
       "      <td>0</td>\n",
       "      <td>0</td>\n",
       "      <td>6</td>\n",
       "      <td>18</td>\n",
       "    </tr>\n",
       "  </tbody>\n",
       "</table>\n",
       "<p>98 rows × 9 columns</p>\n",
       "</div>"
      ],
      "text/plain": [
       "     Population  KSI  TotalYouthServices  CommunityHousing  PlacesOfWorship  \\\n",
       "70        11669   34                  10                50                7   \n",
       "36        16936   13                   1                 2                4   \n",
       "112       17992   30                   4                 2               12   \n",
       "78         7607   47                  11                 1               11   \n",
       "99        11817   17                  15                 0                6   \n",
       "..          ...  ...                 ...               ...              ...   \n",
       "91        14133   28                   5                 6                9   \n",
       "118       27917  161                   9                 7               22   \n",
       "67        11916   25                  10                 6                5   \n",
       "136       53485  161                  32                26               27   \n",
       "96        12528    9                   0                 0                5   \n",
       "\n",
       "     SocialHousing  TPSFacilities_2km  TPSFacilities_5km  TPSFacilities_10km  \n",
       "70             860                  2                  5                  16  \n",
       "36             664                  1                  1                   8  \n",
       "112           1036                  0                  2                  11  \n",
       "78             326                  2                 10                  15  \n",
       "99               0                  1                  3                  18  \n",
       "..             ...                ...                ...                 ...  \n",
       "91              59                  0                  6                  17  \n",
       "118            736                  1                  5                   9  \n",
       "67              98                  0                  5                  17  \n",
       "136           2594                  0                  2                   7  \n",
       "96               0                  0                  6                  18  \n",
       "\n",
       "[98 rows x 9 columns]"
      ]
     },
     "execution_count": 22,
     "metadata": {},
     "output_type": "execute_result"
    }
   ],
   "source": [
    "X_train"
   ]
  },
  {
   "cell_type": "code",
   "execution_count": 24,
   "metadata": {},
   "outputs": [
    {
     "data": {
      "text/plain": [
       "(42, 9)"
      ]
     },
     "execution_count": 24,
     "metadata": {},
     "output_type": "execute_result"
    }
   ],
   "source": [
    "X_test.shape"
   ]
  },
  {
   "cell_type": "code",
   "execution_count": 25,
   "metadata": {},
   "outputs": [
    {
     "data": {
      "text/html": [
       "<div>\n",
       "<style scoped>\n",
       "    .dataframe tbody tr th:only-of-type {\n",
       "        vertical-align: middle;\n",
       "    }\n",
       "\n",
       "    .dataframe tbody tr th {\n",
       "        vertical-align: top;\n",
       "    }\n",
       "\n",
       "    .dataframe thead th {\n",
       "        text-align: right;\n",
       "    }\n",
       "</style>\n",
       "<table border=\"1\" class=\"dataframe\">\n",
       "  <thead>\n",
       "    <tr style=\"text-align: right;\">\n",
       "      <th></th>\n",
       "      <th>Assault</th>\n",
       "      <th>Auto Theft</th>\n",
       "      <th>Break and Enter</th>\n",
       "      <th>Robbery</th>\n",
       "      <th>Theft Over</th>\n",
       "    </tr>\n",
       "  </thead>\n",
       "  <tbody>\n",
       "    <tr>\n",
       "      <th>70</th>\n",
       "      <td>610</td>\n",
       "      <td>64</td>\n",
       "      <td>390</td>\n",
       "      <td>123</td>\n",
       "      <td>31</td>\n",
       "    </tr>\n",
       "    <tr>\n",
       "      <th>36</th>\n",
       "      <td>608</td>\n",
       "      <td>97</td>\n",
       "      <td>170</td>\n",
       "      <td>123</td>\n",
       "      <td>35</td>\n",
       "    </tr>\n",
       "    <tr>\n",
       "      <th>112</th>\n",
       "      <td>1077</td>\n",
       "      <td>283</td>\n",
       "      <td>303</td>\n",
       "      <td>247</td>\n",
       "      <td>26</td>\n",
       "    </tr>\n",
       "    <tr>\n",
       "      <th>78</th>\n",
       "      <td>794</td>\n",
       "      <td>52</td>\n",
       "      <td>409</td>\n",
       "      <td>147</td>\n",
       "      <td>48</td>\n",
       "    </tr>\n",
       "    <tr>\n",
       "      <th>99</th>\n",
       "      <td>453</td>\n",
       "      <td>54</td>\n",
       "      <td>168</td>\n",
       "      <td>117</td>\n",
       "      <td>28</td>\n",
       "    </tr>\n",
       "    <tr>\n",
       "      <th>...</th>\n",
       "      <td>...</td>\n",
       "      <td>...</td>\n",
       "      <td>...</td>\n",
       "      <td>...</td>\n",
       "      <td>...</td>\n",
       "    </tr>\n",
       "    <tr>\n",
       "      <th>91</th>\n",
       "      <td>506</td>\n",
       "      <td>69</td>\n",
       "      <td>170</td>\n",
       "      <td>145</td>\n",
       "      <td>22</td>\n",
       "    </tr>\n",
       "    <tr>\n",
       "      <th>118</th>\n",
       "      <td>1186</td>\n",
       "      <td>376</td>\n",
       "      <td>561</td>\n",
       "      <td>202</td>\n",
       "      <td>82</td>\n",
       "    </tr>\n",
       "    <tr>\n",
       "      <th>67</th>\n",
       "      <td>386</td>\n",
       "      <td>73</td>\n",
       "      <td>241</td>\n",
       "      <td>159</td>\n",
       "      <td>26</td>\n",
       "    </tr>\n",
       "    <tr>\n",
       "      <th>136</th>\n",
       "      <td>2292</td>\n",
       "      <td>276</td>\n",
       "      <td>628</td>\n",
       "      <td>501</td>\n",
       "      <td>82</td>\n",
       "    </tr>\n",
       "    <tr>\n",
       "      <th>96</th>\n",
       "      <td>185</td>\n",
       "      <td>26</td>\n",
       "      <td>140</td>\n",
       "      <td>34</td>\n",
       "      <td>24</td>\n",
       "    </tr>\n",
       "  </tbody>\n",
       "</table>\n",
       "<p>98 rows × 5 columns</p>\n",
       "</div>"
      ],
      "text/plain": [
       "     Assault  Auto Theft  Break and Enter  Robbery  Theft Over\n",
       "70       610          64              390      123          31\n",
       "36       608          97              170      123          35\n",
       "112     1077         283              303      247          26\n",
       "78       794          52              409      147          48\n",
       "99       453          54              168      117          28\n",
       "..       ...         ...              ...      ...         ...\n",
       "91       506          69              170      145          22\n",
       "118     1186         376              561      202          82\n",
       "67       386          73              241      159          26\n",
       "136     2292         276              628      501          82\n",
       "96       185          26              140       34          24\n",
       "\n",
       "[98 rows x 5 columns]"
      ]
     },
     "execution_count": 25,
     "metadata": {},
     "output_type": "execute_result"
    }
   ],
   "source": [
    "y_train"
   ]
  },
  {
   "cell_type": "markdown",
   "metadata": {},
   "source": [
    "## save test and train sets "
   ]
  },
  {
   "cell_type": "code",
   "execution_count": 29,
   "metadata": {},
   "outputs": [],
   "source": [
    "#pd.DataFrame(X_train).to_csv(\"2_Output/3_test_train_No_TOD/X_train.csv\")\n",
    "#pd.DataFrame(X_test).to_csv(\"2_Output/3_test_train_No_TOD/X_test.csv\")\n",
    "#pd.DataFrame(y_train).to_csv(\"2_Output/3_test_train_No_TOD/y_train.csv\")\n",
    "#pd.DataFrame(y_test).to_csv(\"2_Output/3_test_train_No_TOD/y_test.csv\")"
   ]
  },
  {
   "cell_type": "markdown",
   "metadata": {},
   "source": [
    "## Read Test and Train sets"
   ]
  },
  {
   "cell_type": "code",
   "execution_count": 4,
   "metadata": {},
   "outputs": [],
   "source": [
    "X_train = pd.read_csv(\"2_Output/3_test_train_No_TOD/X_train.csv\")\n",
    "X_train = X_train.drop(['Unnamed: 0'], axis=1)\n",
    "X_test = pd.read_csv(\"2_Output/3_test_train_No_TOD/X_test.csv\")\n",
    "X_test = X_test.drop(['Unnamed: 0'], axis=1)\n",
    "y_train = pd.read_csv(\"2_Output/3_test_train_No_TOD/y_train.csv\")\n",
    "y_train = y_train.drop(['Unnamed: 0'], axis=1)\n",
    "y_test = pd.read_csv(\"2_Output/3_test_train_No_TOD/y_test.csv\")\n",
    "y_test = y_test.drop(['Unnamed: 0'], axis=1)"
   ]
  },
  {
   "cell_type": "code",
   "execution_count": 5,
   "metadata": {},
   "outputs": [
    {
     "data": {
      "text/html": [
       "<div>\n",
       "<style scoped>\n",
       "    .dataframe tbody tr th:only-of-type {\n",
       "        vertical-align: middle;\n",
       "    }\n",
       "\n",
       "    .dataframe tbody tr th {\n",
       "        vertical-align: top;\n",
       "    }\n",
       "\n",
       "    .dataframe thead th {\n",
       "        text-align: right;\n",
       "    }\n",
       "</style>\n",
       "<table border=\"1\" class=\"dataframe\">\n",
       "  <thead>\n",
       "    <tr style=\"text-align: right;\">\n",
       "      <th></th>\n",
       "      <th>Population</th>\n",
       "      <th>KSI</th>\n",
       "      <th>TotalYouthServices</th>\n",
       "      <th>CommunityHousing</th>\n",
       "      <th>PlacesOfWorship</th>\n",
       "      <th>SocialHousing</th>\n",
       "      <th>TPSFacilities_2km</th>\n",
       "      <th>TPSFacilities_5km</th>\n",
       "      <th>TPSFacilities_10km</th>\n",
       "    </tr>\n",
       "  </thead>\n",
       "  <tbody>\n",
       "    <tr>\n",
       "      <th>0</th>\n",
       "      <td>11669</td>\n",
       "      <td>34</td>\n",
       "      <td>10</td>\n",
       "      <td>50</td>\n",
       "      <td>7</td>\n",
       "      <td>860</td>\n",
       "      <td>2</td>\n",
       "      <td>5</td>\n",
       "      <td>16</td>\n",
       "    </tr>\n",
       "    <tr>\n",
       "      <th>1</th>\n",
       "      <td>16936</td>\n",
       "      <td>13</td>\n",
       "      <td>1</td>\n",
       "      <td>2</td>\n",
       "      <td>4</td>\n",
       "      <td>664</td>\n",
       "      <td>1</td>\n",
       "      <td>1</td>\n",
       "      <td>8</td>\n",
       "    </tr>\n",
       "    <tr>\n",
       "      <th>2</th>\n",
       "      <td>17992</td>\n",
       "      <td>30</td>\n",
       "      <td>4</td>\n",
       "      <td>2</td>\n",
       "      <td>12</td>\n",
       "      <td>1036</td>\n",
       "      <td>0</td>\n",
       "      <td>2</td>\n",
       "      <td>11</td>\n",
       "    </tr>\n",
       "    <tr>\n",
       "      <th>3</th>\n",
       "      <td>7607</td>\n",
       "      <td>47</td>\n",
       "      <td>11</td>\n",
       "      <td>1</td>\n",
       "      <td>11</td>\n",
       "      <td>326</td>\n",
       "      <td>2</td>\n",
       "      <td>10</td>\n",
       "      <td>15</td>\n",
       "    </tr>\n",
       "    <tr>\n",
       "      <th>4</th>\n",
       "      <td>11817</td>\n",
       "      <td>17</td>\n",
       "      <td>15</td>\n",
       "      <td>0</td>\n",
       "      <td>6</td>\n",
       "      <td>0</td>\n",
       "      <td>1</td>\n",
       "      <td>3</td>\n",
       "      <td>18</td>\n",
       "    </tr>\n",
       "  </tbody>\n",
       "</table>\n",
       "</div>"
      ],
      "text/plain": [
       "   Population  KSI  TotalYouthServices  CommunityHousing  PlacesOfWorship  \\\n",
       "0       11669   34                  10                50                7   \n",
       "1       16936   13                   1                 2                4   \n",
       "2       17992   30                   4                 2               12   \n",
       "3        7607   47                  11                 1               11   \n",
       "4       11817   17                  15                 0                6   \n",
       "\n",
       "   SocialHousing  TPSFacilities_2km  TPSFacilities_5km  TPSFacilities_10km  \n",
       "0            860                  2                  5                  16  \n",
       "1            664                  1                  1                   8  \n",
       "2           1036                  0                  2                  11  \n",
       "3            326                  2                 10                  15  \n",
       "4              0                  1                  3                  18  "
      ]
     },
     "execution_count": 5,
     "metadata": {},
     "output_type": "execute_result"
    }
   ],
   "source": [
    "X_train.head()\n"
   ]
  },
  {
   "cell_type": "code",
   "execution_count": 45,
   "metadata": {},
   "outputs": [
    {
     "data": {
      "text/html": [
       "<div>\n",
       "<style scoped>\n",
       "    .dataframe tbody tr th:only-of-type {\n",
       "        vertical-align: middle;\n",
       "    }\n",
       "\n",
       "    .dataframe tbody tr th {\n",
       "        vertical-align: top;\n",
       "    }\n",
       "\n",
       "    .dataframe thead th {\n",
       "        text-align: right;\n",
       "    }\n",
       "</style>\n",
       "<table border=\"1\" class=\"dataframe\">\n",
       "  <thead>\n",
       "    <tr style=\"text-align: right;\">\n",
       "      <th></th>\n",
       "      <th>Population</th>\n",
       "      <th>KSI</th>\n",
       "      <th>TotalYouthServices</th>\n",
       "      <th>CommunityHousing</th>\n",
       "      <th>PlacesOfWorship</th>\n",
       "      <th>SocialHousing</th>\n",
       "      <th>TPSFacilities_2km</th>\n",
       "      <th>TPSFacilities_5km</th>\n",
       "      <th>TPSFacilities_10km</th>\n",
       "    </tr>\n",
       "  </thead>\n",
       "  <tbody>\n",
       "    <tr>\n",
       "      <th>0</th>\n",
       "      <td>18675</td>\n",
       "      <td>11</td>\n",
       "      <td>0</td>\n",
       "      <td>0</td>\n",
       "      <td>11</td>\n",
       "      <td>528</td>\n",
       "      <td>1</td>\n",
       "      <td>3</td>\n",
       "      <td>11</td>\n",
       "    </tr>\n",
       "    <tr>\n",
       "      <th>1</th>\n",
       "      <td>11499</td>\n",
       "      <td>13</td>\n",
       "      <td>3</td>\n",
       "      <td>0</td>\n",
       "      <td>7</td>\n",
       "      <td>154</td>\n",
       "      <td>0</td>\n",
       "      <td>6</td>\n",
       "      <td>18</td>\n",
       "    </tr>\n",
       "    <tr>\n",
       "      <th>2</th>\n",
       "      <td>22372</td>\n",
       "      <td>16</td>\n",
       "      <td>5</td>\n",
       "      <td>108</td>\n",
       "      <td>11</td>\n",
       "      <td>2104</td>\n",
       "      <td>1</td>\n",
       "      <td>4</td>\n",
       "      <td>16</td>\n",
       "    </tr>\n",
       "    <tr>\n",
       "      <th>3</th>\n",
       "      <td>9233</td>\n",
       "      <td>35</td>\n",
       "      <td>0</td>\n",
       "      <td>0</td>\n",
       "      <td>3</td>\n",
       "      <td>182</td>\n",
       "      <td>0</td>\n",
       "      <td>2</td>\n",
       "      <td>16</td>\n",
       "    </tr>\n",
       "    <tr>\n",
       "      <th>4</th>\n",
       "      <td>9456</td>\n",
       "      <td>1</td>\n",
       "      <td>4</td>\n",
       "      <td>14</td>\n",
       "      <td>2</td>\n",
       "      <td>358</td>\n",
       "      <td>0</td>\n",
       "      <td>3</td>\n",
       "      <td>8</td>\n",
       "    </tr>\n",
       "  </tbody>\n",
       "</table>\n",
       "</div>"
      ],
      "text/plain": [
       "   Population  KSI  TotalYouthServices  CommunityHousing  PlacesOfWorship  \\\n",
       "0       18675   11                   0                 0               11   \n",
       "1       11499   13                   3                 0                7   \n",
       "2       22372   16                   5               108               11   \n",
       "3        9233   35                   0                 0                3   \n",
       "4        9456    1                   4                14                2   \n",
       "\n",
       "   SocialHousing  TPSFacilities_2km  TPSFacilities_5km  TPSFacilities_10km  \n",
       "0            528                  1                  3                  11  \n",
       "1            154                  0                  6                  18  \n",
       "2           2104                  1                  4                  16  \n",
       "3            182                  0                  2                  16  \n",
       "4            358                  0                  3                   8  "
      ]
     },
     "execution_count": 45,
     "metadata": {},
     "output_type": "execute_result"
    }
   ],
   "source": [
    "X_test.head()\n"
   ]
  },
  {
   "cell_type": "code",
   "execution_count": 16,
   "metadata": {},
   "outputs": [
    {
     "data": {
      "text/html": [
       "<div>\n",
       "<style scoped>\n",
       "    .dataframe tbody tr th:only-of-type {\n",
       "        vertical-align: middle;\n",
       "    }\n",
       "\n",
       "    .dataframe tbody tr th {\n",
       "        vertical-align: top;\n",
       "    }\n",
       "\n",
       "    .dataframe thead th {\n",
       "        text-align: right;\n",
       "    }\n",
       "</style>\n",
       "<table border=\"1\" class=\"dataframe\">\n",
       "  <thead>\n",
       "    <tr style=\"text-align: right;\">\n",
       "      <th></th>\n",
       "      <th>Assault</th>\n",
       "      <th>Auto Theft</th>\n",
       "      <th>Break and Enter</th>\n",
       "      <th>Robbery</th>\n",
       "      <th>Theft Over</th>\n",
       "    </tr>\n",
       "  </thead>\n",
       "  <tbody>\n",
       "    <tr>\n",
       "      <th>0</th>\n",
       "      <td>610</td>\n",
       "      <td>64</td>\n",
       "      <td>390</td>\n",
       "      <td>123</td>\n",
       "      <td>31</td>\n",
       "    </tr>\n",
       "    <tr>\n",
       "      <th>1</th>\n",
       "      <td>608</td>\n",
       "      <td>97</td>\n",
       "      <td>170</td>\n",
       "      <td>123</td>\n",
       "      <td>35</td>\n",
       "    </tr>\n",
       "    <tr>\n",
       "      <th>2</th>\n",
       "      <td>1077</td>\n",
       "      <td>283</td>\n",
       "      <td>303</td>\n",
       "      <td>247</td>\n",
       "      <td>26</td>\n",
       "    </tr>\n",
       "    <tr>\n",
       "      <th>3</th>\n",
       "      <td>794</td>\n",
       "      <td>52</td>\n",
       "      <td>409</td>\n",
       "      <td>147</td>\n",
       "      <td>48</td>\n",
       "    </tr>\n",
       "    <tr>\n",
       "      <th>4</th>\n",
       "      <td>453</td>\n",
       "      <td>54</td>\n",
       "      <td>168</td>\n",
       "      <td>117</td>\n",
       "      <td>28</td>\n",
       "    </tr>\n",
       "  </tbody>\n",
       "</table>\n",
       "</div>"
      ],
      "text/plain": [
       "   Assault  Auto Theft  Break and Enter  Robbery  Theft Over\n",
       "0      610          64              390      123          31\n",
       "1      608          97              170      123          35\n",
       "2     1077         283              303      247          26\n",
       "3      794          52              409      147          48\n",
       "4      453          54              168      117          28"
      ]
     },
     "execution_count": 16,
     "metadata": {},
     "output_type": "execute_result"
    }
   ],
   "source": [
    "y_train.head()\n"
   ]
  },
  {
   "cell_type": "code",
   "execution_count": 17,
   "metadata": {},
   "outputs": [
    {
     "data": {
      "text/html": [
       "<div>\n",
       "<style scoped>\n",
       "    .dataframe tbody tr th:only-of-type {\n",
       "        vertical-align: middle;\n",
       "    }\n",
       "\n",
       "    .dataframe tbody tr th {\n",
       "        vertical-align: top;\n",
       "    }\n",
       "\n",
       "    .dataframe thead th {\n",
       "        text-align: right;\n",
       "    }\n",
       "</style>\n",
       "<table border=\"1\" class=\"dataframe\">\n",
       "  <thead>\n",
       "    <tr style=\"text-align: right;\">\n",
       "      <th></th>\n",
       "      <th>Assault</th>\n",
       "      <th>Auto Theft</th>\n",
       "      <th>Break and Enter</th>\n",
       "      <th>Robbery</th>\n",
       "      <th>Theft Over</th>\n",
       "    </tr>\n",
       "  </thead>\n",
       "  <tbody>\n",
       "    <tr>\n",
       "      <th>0</th>\n",
       "      <td>909</td>\n",
       "      <td>99</td>\n",
       "      <td>239</td>\n",
       "      <td>121</td>\n",
       "      <td>38</td>\n",
       "    </tr>\n",
       "    <tr>\n",
       "      <th>1</th>\n",
       "      <td>391</td>\n",
       "      <td>32</td>\n",
       "      <td>106</td>\n",
       "      <td>56</td>\n",
       "      <td>7</td>\n",
       "    </tr>\n",
       "    <tr>\n",
       "      <th>2</th>\n",
       "      <td>619</td>\n",
       "      <td>171</td>\n",
       "      <td>275</td>\n",
       "      <td>138</td>\n",
       "      <td>36</td>\n",
       "    </tr>\n",
       "    <tr>\n",
       "      <th>3</th>\n",
       "      <td>275</td>\n",
       "      <td>25</td>\n",
       "      <td>116</td>\n",
       "      <td>46</td>\n",
       "      <td>14</td>\n",
       "    </tr>\n",
       "    <tr>\n",
       "      <th>4</th>\n",
       "      <td>325</td>\n",
       "      <td>113</td>\n",
       "      <td>63</td>\n",
       "      <td>81</td>\n",
       "      <td>9</td>\n",
       "    </tr>\n",
       "  </tbody>\n",
       "</table>\n",
       "</div>"
      ],
      "text/plain": [
       "   Assault  Auto Theft  Break and Enter  Robbery  Theft Over\n",
       "0      909          99              239      121          38\n",
       "1      391          32              106       56           7\n",
       "2      619         171              275      138          36\n",
       "3      275          25              116       46          14\n",
       "4      325         113               63       81           9"
      ]
     },
     "execution_count": 17,
     "metadata": {},
     "output_type": "execute_result"
    }
   ],
   "source": [
    "y_test.head()"
   ]
  },
  {
   "cell_type": "code",
   "execution_count": 86,
   "metadata": {},
   "outputs": [],
   "source": [
    "from sklearn.base import BaseEstimator, RegressorMixin\n",
    "import statsmodels.formula.api as smf\n",
    "import statsmodels.api as sm\n",
    "from sklearn import linear_model\n",
    "from sklearn.model_selection import cross_val_score"
   ]
  },
  {
   "cell_type": "code",
   "execution_count": null,
   "metadata": {},
   "outputs": [],
   "source": []
  },
  {
   "cell_type": "code",
   "execution_count": null,
   "metadata": {},
   "outputs": [],
   "source": []
  },
  {
   "cell_type": "code",
   "execution_count": null,
   "metadata": {},
   "outputs": [],
   "source": []
  },
  {
   "cell_type": "markdown",
   "metadata": {},
   "source": [
    "##  Random Forest"
   ]
  },
  {
   "cell_type": "code",
   "execution_count": 6,
   "metadata": {},
   "outputs": [],
   "source": [
    "from sklearn.model_selection import cross_val_score, cross_val_predict, GridSearchCV\n",
    "from sklearn.ensemble import RandomForestRegressor\n",
    "from sklearn.metrics import mean_absolute_error, mean_squared_error, \\\n",
    "explained_variance_score, r2_score,\\\n",
    "mean_squared_log_error, median_absolute_error, mean_poisson_deviance,\\\n",
    "mean_gamma_deviance, max_error,\\\n",
    "accuracy_score, confusion_matrix, classification_report\n",
    "from sklearn.inspection import permutation_importance\n",
    "import statsmodels.api as sm"
   ]
  },
  {
   "cell_type": "code",
   "execution_count": null,
   "metadata": {},
   "outputs": [],
   "source": []
  },
  {
   "cell_type": "markdown",
   "metadata": {},
   "source": [
    "## Removed Population, Time of Day and TPS Facilities"
   ]
  },
  {
   "cell_type": "code",
   "execution_count": 7,
   "metadata": {},
   "outputs": [
    {
     "data": {
      "text/html": [
       "<div>\n",
       "<style scoped>\n",
       "    .dataframe tbody tr th:only-of-type {\n",
       "        vertical-align: middle;\n",
       "    }\n",
       "\n",
       "    .dataframe tbody tr th {\n",
       "        vertical-align: top;\n",
       "    }\n",
       "\n",
       "    .dataframe thead th {\n",
       "        text-align: right;\n",
       "    }\n",
       "</style>\n",
       "<table border=\"1\" class=\"dataframe\">\n",
       "  <thead>\n",
       "    <tr style=\"text-align: right;\">\n",
       "      <th></th>\n",
       "      <th>KSI</th>\n",
       "      <th>TotalYouthServices</th>\n",
       "      <th>CommunityHousing</th>\n",
       "      <th>PlacesOfWorship</th>\n",
       "      <th>SocialHousing</th>\n",
       "    </tr>\n",
       "  </thead>\n",
       "  <tbody>\n",
       "    <tr>\n",
       "      <th>0</th>\n",
       "      <td>34</td>\n",
       "      <td>10</td>\n",
       "      <td>50</td>\n",
       "      <td>7</td>\n",
       "      <td>860</td>\n",
       "    </tr>\n",
       "    <tr>\n",
       "      <th>1</th>\n",
       "      <td>13</td>\n",
       "      <td>1</td>\n",
       "      <td>2</td>\n",
       "      <td>4</td>\n",
       "      <td>664</td>\n",
       "    </tr>\n",
       "    <tr>\n",
       "      <th>2</th>\n",
       "      <td>30</td>\n",
       "      <td>4</td>\n",
       "      <td>2</td>\n",
       "      <td>12</td>\n",
       "      <td>1036</td>\n",
       "    </tr>\n",
       "    <tr>\n",
       "      <th>3</th>\n",
       "      <td>47</td>\n",
       "      <td>11</td>\n",
       "      <td>1</td>\n",
       "      <td>11</td>\n",
       "      <td>326</td>\n",
       "    </tr>\n",
       "    <tr>\n",
       "      <th>4</th>\n",
       "      <td>17</td>\n",
       "      <td>15</td>\n",
       "      <td>0</td>\n",
       "      <td>6</td>\n",
       "      <td>0</td>\n",
       "    </tr>\n",
       "    <tr>\n",
       "      <th>...</th>\n",
       "      <td>...</td>\n",
       "      <td>...</td>\n",
       "      <td>...</td>\n",
       "      <td>...</td>\n",
       "      <td>...</td>\n",
       "    </tr>\n",
       "    <tr>\n",
       "      <th>93</th>\n",
       "      <td>28</td>\n",
       "      <td>5</td>\n",
       "      <td>6</td>\n",
       "      <td>9</td>\n",
       "      <td>59</td>\n",
       "    </tr>\n",
       "    <tr>\n",
       "      <th>94</th>\n",
       "      <td>161</td>\n",
       "      <td>9</td>\n",
       "      <td>7</td>\n",
       "      <td>22</td>\n",
       "      <td>736</td>\n",
       "    </tr>\n",
       "    <tr>\n",
       "      <th>95</th>\n",
       "      <td>25</td>\n",
       "      <td>10</td>\n",
       "      <td>6</td>\n",
       "      <td>5</td>\n",
       "      <td>98</td>\n",
       "    </tr>\n",
       "    <tr>\n",
       "      <th>96</th>\n",
       "      <td>161</td>\n",
       "      <td>32</td>\n",
       "      <td>26</td>\n",
       "      <td>27</td>\n",
       "      <td>2594</td>\n",
       "    </tr>\n",
       "    <tr>\n",
       "      <th>97</th>\n",
       "      <td>9</td>\n",
       "      <td>0</td>\n",
       "      <td>0</td>\n",
       "      <td>5</td>\n",
       "      <td>0</td>\n",
       "    </tr>\n",
       "  </tbody>\n",
       "</table>\n",
       "<p>98 rows × 5 columns</p>\n",
       "</div>"
      ],
      "text/plain": [
       "    KSI  TotalYouthServices  CommunityHousing  PlacesOfWorship  SocialHousing\n",
       "0    34                  10                50                7            860\n",
       "1    13                   1                 2                4            664\n",
       "2    30                   4                 2               12           1036\n",
       "3    47                  11                 1               11            326\n",
       "4    17                  15                 0                6              0\n",
       "..  ...                 ...               ...              ...            ...\n",
       "93   28                   5                 6                9             59\n",
       "94  161                   9                 7               22            736\n",
       "95   25                  10                 6                5             98\n",
       "96  161                  32                26               27           2594\n",
       "97    9                   0                 0                5              0\n",
       "\n",
       "[98 rows x 5 columns]"
      ]
     },
     "execution_count": 7,
     "metadata": {},
     "output_type": "execute_result"
    }
   ],
   "source": [
    "X_train_3 = X_train.iloc[:,[1,2,3,4,5]]\n",
    "X_train_3"
   ]
  },
  {
   "cell_type": "code",
   "execution_count": 8,
   "metadata": {},
   "outputs": [
    {
     "data": {
      "text/html": [
       "<div>\n",
       "<style scoped>\n",
       "    .dataframe tbody tr th:only-of-type {\n",
       "        vertical-align: middle;\n",
       "    }\n",
       "\n",
       "    .dataframe tbody tr th {\n",
       "        vertical-align: top;\n",
       "    }\n",
       "\n",
       "    .dataframe thead th {\n",
       "        text-align: right;\n",
       "    }\n",
       "</style>\n",
       "<table border=\"1\" class=\"dataframe\">\n",
       "  <thead>\n",
       "    <tr style=\"text-align: right;\">\n",
       "      <th></th>\n",
       "      <th>KSI</th>\n",
       "      <th>TotalYouthServices</th>\n",
       "      <th>CommunityHousing</th>\n",
       "      <th>PlacesOfWorship</th>\n",
       "      <th>SocialHousing</th>\n",
       "    </tr>\n",
       "  </thead>\n",
       "  <tbody>\n",
       "    <tr>\n",
       "      <th>0</th>\n",
       "      <td>11</td>\n",
       "      <td>0</td>\n",
       "      <td>0</td>\n",
       "      <td>11</td>\n",
       "      <td>528</td>\n",
       "    </tr>\n",
       "    <tr>\n",
       "      <th>1</th>\n",
       "      <td>13</td>\n",
       "      <td>3</td>\n",
       "      <td>0</td>\n",
       "      <td>7</td>\n",
       "      <td>154</td>\n",
       "    </tr>\n",
       "    <tr>\n",
       "      <th>2</th>\n",
       "      <td>16</td>\n",
       "      <td>5</td>\n",
       "      <td>108</td>\n",
       "      <td>11</td>\n",
       "      <td>2104</td>\n",
       "    </tr>\n",
       "    <tr>\n",
       "      <th>3</th>\n",
       "      <td>35</td>\n",
       "      <td>0</td>\n",
       "      <td>0</td>\n",
       "      <td>3</td>\n",
       "      <td>182</td>\n",
       "    </tr>\n",
       "    <tr>\n",
       "      <th>4</th>\n",
       "      <td>1</td>\n",
       "      <td>4</td>\n",
       "      <td>14</td>\n",
       "      <td>2</td>\n",
       "      <td>358</td>\n",
       "    </tr>\n",
       "  </tbody>\n",
       "</table>\n",
       "</div>"
      ],
      "text/plain": [
       "   KSI  TotalYouthServices  CommunityHousing  PlacesOfWorship  SocialHousing\n",
       "0   11                   0                 0               11            528\n",
       "1   13                   3                 0                7            154\n",
       "2   16                   5               108               11           2104\n",
       "3   35                   0                 0                3            182\n",
       "4    1                   4                14                2            358"
      ]
     },
     "execution_count": 8,
     "metadata": {},
     "output_type": "execute_result"
    }
   ],
   "source": [
    "X_test_3 = X_test.iloc[:,[1,2,3,4,5]]\n",
    "X_test_3.head()"
   ]
  },
  {
   "cell_type": "code",
   "execution_count": null,
   "metadata": {},
   "outputs": [],
   "source": []
  },
  {
   "cell_type": "markdown",
   "metadata": {},
   "source": [
    "### Iteration #3 Linear Regression - Population and TPS Facilities removed"
   ]
  },
  {
   "cell_type": "code",
   "execution_count": 91,
   "metadata": {},
   "outputs": [
    {
     "name": "stdout",
     "output_type": "stream",
     "text": [
      "                            OLS Regression Results                            \n",
      "==============================================================================\n",
      "Dep. Variable:                Assault   R-squared:                       0.829\n",
      "Model:                            OLS   Adj. R-squared:                  0.820\n",
      "Method:                 Least Squares   F-statistic:                     89.25\n",
      "Date:                Mon, 08 Mar 2021   Prob (F-statistic):           9.51e-34\n",
      "Time:                        18:29:19   Log-Likelihood:                -714.41\n",
      "No. Observations:                  98   AIC:                             1441.\n",
      "Df Residuals:                      92   BIC:                             1456.\n",
      "Df Model:                           5                                         \n",
      "Covariance Type:            nonrobust                                         \n",
      "======================================================================================\n",
      "                         coef    std err          t      P>|t|      [0.025      0.975]\n",
      "--------------------------------------------------------------------------------------\n",
      "const                147.4236     71.451      2.063      0.042       5.516     289.331\n",
      "KSI                    9.6564      1.398      6.910      0.000       6.881      12.432\n",
      "TotalYouthServices    38.4665      4.288      8.970      0.000      29.950      46.983\n",
      "CommunityHousing      -0.0792      1.358     -0.058      0.954      -2.777       2.618\n",
      "PlacesOfWorship      -20.6414      6.523     -3.164      0.002     -33.597      -7.686\n",
      "SocialHousing          0.2028      0.077      2.644      0.010       0.050       0.355\n",
      "==============================================================================\n",
      "Omnibus:                       23.864   Durbin-Watson:                   1.939\n",
      "Prob(Omnibus):                  0.000   Jarque-Bera (JB):               39.788\n",
      "Skew:                           1.028   Prob(JB):                     2.29e-09\n",
      "Kurtosis:                       5.349   Cond. No.                     1.82e+03\n",
      "==============================================================================\n",
      "\n",
      "Warnings:\n",
      "[1] Standard Errors assume that the covariance matrix of the errors is correctly specified.\n",
      "[2] The condition number is large, 1.82e+03. This might indicate that there are\n",
      "strong multicollinearity or other numerical problems.\n",
      "MSE 125742.57211099067\n"
     ]
    }
   ],
   "source": [
    "assault_OLS_3 = OLS(X_train_3, y_train.iloc[:,[0]])"
   ]
  },
  {
   "cell_type": "code",
   "execution_count": 92,
   "metadata": {},
   "outputs": [
    {
     "name": "stdout",
     "output_type": "stream",
     "text": [
      "                            OLS Regression Results                            \n",
      "==============================================================================\n",
      "Dep. Variable:             Auto Theft   R-squared:                       0.513\n",
      "Model:                            OLS   Adj. R-squared:                  0.486\n",
      "Method:                 Least Squares   F-statistic:                     19.35\n",
      "Date:                Mon, 08 Mar 2021   Prob (F-statistic):           4.08e-13\n",
      "Time:                        18:31:46   Log-Likelihood:                -642.01\n",
      "No. Observations:                  98   AIC:                             1296.\n",
      "Df Residuals:                      92   BIC:                             1312.\n",
      "Df Model:                           5                                         \n",
      "Covariance Type:            nonrobust                                         \n",
      "======================================================================================\n",
      "                         coef    std err          t      P>|t|      [0.025      0.975]\n",
      "--------------------------------------------------------------------------------------\n",
      "const                -54.5913     34.131     -1.599      0.113    -122.378      13.195\n",
      "KSI                    2.9866      0.668      4.474      0.000       1.661       4.312\n",
      "TotalYouthServices    -2.6147      2.048     -1.276      0.205      -6.683       1.454\n",
      "CommunityHousing      -0.4832      0.649     -0.745      0.458      -1.772       0.805\n",
      "PlacesOfWorship       14.8968      3.116      4.781      0.000       8.708      21.086\n",
      "SocialHousing         -0.0226      0.037     -0.617      0.539      -0.095       0.050\n",
      "==============================================================================\n",
      "Omnibus:                      120.253   Durbin-Watson:                   2.004\n",
      "Prob(Omnibus):                  0.000   Jarque-Bera (JB):             3576.615\n",
      "Skew:                           3.920   Prob(JB):                         0.00\n",
      "Kurtosis:                      31.539   Cond. No.                     1.82e+03\n",
      "==============================================================================\n",
      "\n",
      "Warnings:\n",
      "[1] Standard Errors assume that the covariance matrix of the errors is correctly specified.\n",
      "[2] The condition number is large, 1.82e+03. This might indicate that there are\n",
      "strong multicollinearity or other numerical problems.\n",
      "MSE 28691.96559557156\n"
     ]
    }
   ],
   "source": [
    "AutoTheft_OLS_3 = OLS(X_train_3, y_train.iloc[:,[1]])"
   ]
  },
  {
   "cell_type": "code",
   "execution_count": 93,
   "metadata": {},
   "outputs": [
    {
     "name": "stdout",
     "output_type": "stream",
     "text": [
      "                            OLS Regression Results                            \n",
      "==============================================================================\n",
      "Dep. Variable:        Break and Enter   R-squared:                       0.792\n",
      "Model:                            OLS   Adj. R-squared:                  0.780\n",
      "Method:                 Least Squares   F-statistic:                     69.98\n",
      "Date:                Mon, 08 Mar 2021   Prob (F-statistic):           7.76e-30\n",
      "Time:                        18:33:09   Log-Likelihood:                -594.53\n",
      "No. Observations:                  98   AIC:                             1201.\n",
      "Df Residuals:                      92   BIC:                             1217.\n",
      "Df Model:                           5                                         \n",
      "Covariance Type:            nonrobust                                         \n",
      "======================================================================================\n",
      "                         coef    std err          t      P>|t|      [0.025      0.975]\n",
      "--------------------------------------------------------------------------------------\n",
      "const                 98.3252     21.025      4.677      0.000      56.568     140.082\n",
      "KSI                    3.2133      0.411      7.814      0.000       2.397       4.030\n",
      "TotalYouthServices     7.8725      1.262      6.239      0.000       5.366      10.379\n",
      "CommunityHousing      -1.1761      0.400     -2.943      0.004      -1.970      -0.382\n",
      "PlacesOfWorship        0.6046      1.920      0.315      0.753      -3.208       4.417\n",
      "SocialHousing          0.0324      0.023      1.436      0.154      -0.012       0.077\n",
      "==============================================================================\n",
      "Omnibus:                       21.091   Durbin-Watson:                   1.899\n",
      "Prob(Omnibus):                  0.000   Jarque-Bera (JB):               36.151\n",
      "Skew:                           0.891   Prob(JB):                     1.41e-08\n",
      "Kurtosis:                       5.382   Cond. No.                     1.82e+03\n",
      "==============================================================================\n",
      "\n",
      "Warnings:\n",
      "[1] Standard Errors assume that the covariance matrix of the errors is correctly specified.\n",
      "[2] The condition number is large, 1.82e+03. This might indicate that there are\n",
      "strong multicollinearity or other numerical problems.\n",
      "MSE 10887.486605447999\n"
     ]
    }
   ],
   "source": [
    "BreakEnter_OLS_3 = OLS(X_train_3, y_train.iloc[:,[2]])"
   ]
  },
  {
   "cell_type": "code",
   "execution_count": 94,
   "metadata": {},
   "outputs": [
    {
     "name": "stdout",
     "output_type": "stream",
     "text": [
      "                            OLS Regression Results                            \n",
      "==============================================================================\n",
      "Dep. Variable:                Robbery   R-squared:                       0.832\n",
      "Model:                            OLS   Adj. R-squared:                  0.823\n",
      "Method:                 Least Squares   F-statistic:                     91.45\n",
      "Date:                Mon, 08 Mar 2021   Prob (F-statistic):           3.77e-34\n",
      "Time:                        18:36:09   Log-Likelihood:                -544.21\n",
      "No. Observations:                  98   AIC:                             1100.\n",
      "Df Residuals:                      92   BIC:                             1116.\n",
      "Df Model:                           5                                         \n",
      "Covariance Type:            nonrobust                                         \n",
      "======================================================================================\n",
      "                         coef    std err          t      P>|t|      [0.025      0.975]\n",
      "--------------------------------------------------------------------------------------\n",
      "const                 17.0861     12.581      1.358      0.178      -7.901      42.073\n",
      "KSI                    1.0526      0.246      4.278      0.000       0.564       1.541\n",
      "TotalYouthServices     7.3678      0.755      9.758      0.000       5.868       8.867\n",
      "CommunityHousing       0.0567      0.239      0.237      0.813      -0.418       0.532\n",
      "PlacesOfWorship        0.9061      1.149      0.789      0.432      -1.375       3.187\n",
      "SocialHousing          0.0380      0.014      2.815      0.006       0.011       0.065\n",
      "==============================================================================\n",
      "Omnibus:                       10.330   Durbin-Watson:                   2.078\n",
      "Prob(Omnibus):                  0.006   Jarque-Bera (JB):               15.018\n",
      "Skew:                           0.469   Prob(JB):                     0.000548\n",
      "Kurtosis:                       4.673   Cond. No.                     1.82e+03\n",
      "==============================================================================\n",
      "\n",
      "Warnings:\n",
      "[1] Standard Errors assume that the covariance matrix of the errors is correctly specified.\n",
      "[2] The condition number is large, 1.82e+03. This might indicate that there are\n",
      "strong multicollinearity or other numerical problems.\n",
      "MSE 3898.585411359369\n"
     ]
    }
   ],
   "source": [
    "Robbery_OLS_3 = OLS(X_train_3, y_train.iloc[:,[3]])"
   ]
  },
  {
   "cell_type": "code",
   "execution_count": 95,
   "metadata": {},
   "outputs": [
    {
     "name": "stdout",
     "output_type": "stream",
     "text": [
      "                            OLS Regression Results                            \n",
      "==============================================================================\n",
      "Dep. Variable:             Theft Over   R-squared:                       0.728\n",
      "Model:                            OLS   Adj. R-squared:                  0.713\n",
      "Method:                 Least Squares   F-statistic:                     49.21\n",
      "Date:                Mon, 08 Mar 2021   Prob (F-statistic):           1.54e-24\n",
      "Time:                        18:38:52   Log-Likelihood:                -479.82\n",
      "No. Observations:                  98   AIC:                             971.6\n",
      "Df Residuals:                      92   BIC:                             987.2\n",
      "Df Model:                           5                                         \n",
      "Covariance Type:            nonrobust                                         \n",
      "======================================================================================\n",
      "                         coef    std err          t      P>|t|      [0.025      0.975]\n",
      "--------------------------------------------------------------------------------------\n",
      "const                 -4.8347      6.522     -0.741      0.460     -17.788       8.119\n",
      "KSI                    0.9870      0.128      7.737      0.000       0.734       1.240\n",
      "TotalYouthServices     2.3263      0.391      5.943      0.000       1.549       3.104\n",
      "CommunityHousing      -0.2530      0.124     -2.041      0.044      -0.499      -0.007\n",
      "PlacesOfWorship        0.4067      0.595      0.683      0.496      -0.776       1.589\n",
      "SocialHousing         -0.0146      0.007     -2.079      0.040      -0.028      -0.001\n",
      "==============================================================================\n",
      "Omnibus:                       14.504   Durbin-Watson:                   1.798\n",
      "Prob(Omnibus):                  0.001   Jarque-Bera (JB):               44.582\n",
      "Skew:                           0.300   Prob(JB):                     2.09e-10\n",
      "Kurtosis:                       6.249   Cond. No.                     1.82e+03\n",
      "==============================================================================\n",
      "\n",
      "Warnings:\n",
      "[1] Standard Errors assume that the covariance matrix of the errors is correctly specified.\n",
      "[2] The condition number is large, 1.82e+03. This might indicate that there are\n",
      "strong multicollinearity or other numerical problems.\n",
      "MSE 1047.7542627587611\n"
     ]
    }
   ],
   "source": [
    "TheftOver_OLS_3 = OLS(X_train_3, y_train.iloc[:,[4]])"
   ]
  },
  {
   "cell_type": "code",
   "execution_count": null,
   "metadata": {},
   "outputs": [],
   "source": []
  },
  {
   "cell_type": "markdown",
   "metadata": {},
   "source": [
    "## Iteration #3 - Random Forest Population and TPS Facilities removed"
   ]
  },
  {
   "cell_type": "code",
   "execution_count": 12,
   "metadata": {},
   "outputs": [
    {
     "data": {
      "text/html": [
       "<div>\n",
       "<style scoped>\n",
       "    .dataframe tbody tr th:only-of-type {\n",
       "        vertical-align: middle;\n",
       "    }\n",
       "\n",
       "    .dataframe tbody tr th {\n",
       "        vertical-align: top;\n",
       "    }\n",
       "\n",
       "    .dataframe thead th {\n",
       "        text-align: right;\n",
       "    }\n",
       "</style>\n",
       "<table border=\"1\" class=\"dataframe\">\n",
       "  <thead>\n",
       "    <tr style=\"text-align: right;\">\n",
       "      <th></th>\n",
       "      <th>KSI</th>\n",
       "      <th>TotalYouthServices</th>\n",
       "      <th>CommunityHousing</th>\n",
       "      <th>PlacesOfWorship</th>\n",
       "      <th>SocialHousing</th>\n",
       "    </tr>\n",
       "  </thead>\n",
       "  <tbody>\n",
       "    <tr>\n",
       "      <th>0</th>\n",
       "      <td>34</td>\n",
       "      <td>10</td>\n",
       "      <td>50</td>\n",
       "      <td>7</td>\n",
       "      <td>860</td>\n",
       "    </tr>\n",
       "    <tr>\n",
       "      <th>1</th>\n",
       "      <td>13</td>\n",
       "      <td>1</td>\n",
       "      <td>2</td>\n",
       "      <td>4</td>\n",
       "      <td>664</td>\n",
       "    </tr>\n",
       "    <tr>\n",
       "      <th>2</th>\n",
       "      <td>30</td>\n",
       "      <td>4</td>\n",
       "      <td>2</td>\n",
       "      <td>12</td>\n",
       "      <td>1036</td>\n",
       "    </tr>\n",
       "    <tr>\n",
       "      <th>3</th>\n",
       "      <td>47</td>\n",
       "      <td>11</td>\n",
       "      <td>1</td>\n",
       "      <td>11</td>\n",
       "      <td>326</td>\n",
       "    </tr>\n",
       "    <tr>\n",
       "      <th>4</th>\n",
       "      <td>17</td>\n",
       "      <td>15</td>\n",
       "      <td>0</td>\n",
       "      <td>6</td>\n",
       "      <td>0</td>\n",
       "    </tr>\n",
       "    <tr>\n",
       "      <th>...</th>\n",
       "      <td>...</td>\n",
       "      <td>...</td>\n",
       "      <td>...</td>\n",
       "      <td>...</td>\n",
       "      <td>...</td>\n",
       "    </tr>\n",
       "    <tr>\n",
       "      <th>93</th>\n",
       "      <td>28</td>\n",
       "      <td>5</td>\n",
       "      <td>6</td>\n",
       "      <td>9</td>\n",
       "      <td>59</td>\n",
       "    </tr>\n",
       "    <tr>\n",
       "      <th>94</th>\n",
       "      <td>161</td>\n",
       "      <td>9</td>\n",
       "      <td>7</td>\n",
       "      <td>22</td>\n",
       "      <td>736</td>\n",
       "    </tr>\n",
       "    <tr>\n",
       "      <th>95</th>\n",
       "      <td>25</td>\n",
       "      <td>10</td>\n",
       "      <td>6</td>\n",
       "      <td>5</td>\n",
       "      <td>98</td>\n",
       "    </tr>\n",
       "    <tr>\n",
       "      <th>96</th>\n",
       "      <td>161</td>\n",
       "      <td>32</td>\n",
       "      <td>26</td>\n",
       "      <td>27</td>\n",
       "      <td>2594</td>\n",
       "    </tr>\n",
       "    <tr>\n",
       "      <th>97</th>\n",
       "      <td>9</td>\n",
       "      <td>0</td>\n",
       "      <td>0</td>\n",
       "      <td>5</td>\n",
       "      <td>0</td>\n",
       "    </tr>\n",
       "  </tbody>\n",
       "</table>\n",
       "<p>98 rows × 5 columns</p>\n",
       "</div>"
      ],
      "text/plain": [
       "    KSI  TotalYouthServices  CommunityHousing  PlacesOfWorship  SocialHousing\n",
       "0    34                  10                50                7            860\n",
       "1    13                   1                 2                4            664\n",
       "2    30                   4                 2               12           1036\n",
       "3    47                  11                 1               11            326\n",
       "4    17                  15                 0                6              0\n",
       "..  ...                 ...               ...              ...            ...\n",
       "93   28                   5                 6                9             59\n",
       "94  161                   9                 7               22            736\n",
       "95   25                  10                 6                5             98\n",
       "96  161                  32                26               27           2594\n",
       "97    9                   0                 0                5              0\n",
       "\n",
       "[98 rows x 5 columns]"
      ]
     },
     "execution_count": 12,
     "metadata": {},
     "output_type": "execute_result"
    }
   ],
   "source": [
    "X_train_3"
   ]
  },
  {
   "cell_type": "code",
   "execution_count": 117,
   "metadata": {},
   "outputs": [
    {
     "data": {
      "text/html": [
       "<div>\n",
       "<style scoped>\n",
       "    .dataframe tbody tr th:only-of-type {\n",
       "        vertical-align: middle;\n",
       "    }\n",
       "\n",
       "    .dataframe tbody tr th {\n",
       "        vertical-align: top;\n",
       "    }\n",
       "\n",
       "    .dataframe thead th {\n",
       "        text-align: right;\n",
       "    }\n",
       "</style>\n",
       "<table border=\"1\" class=\"dataframe\">\n",
       "  <thead>\n",
       "    <tr style=\"text-align: right;\">\n",
       "      <th></th>\n",
       "      <th>KSI</th>\n",
       "      <th>TotalYouthServices</th>\n",
       "      <th>CommunityHousing</th>\n",
       "      <th>PlacesOfWorship</th>\n",
       "      <th>SocialHousing</th>\n",
       "    </tr>\n",
       "  </thead>\n",
       "  <tbody>\n",
       "    <tr>\n",
       "      <th>0</th>\n",
       "      <td>11</td>\n",
       "      <td>0</td>\n",
       "      <td>0</td>\n",
       "      <td>11</td>\n",
       "      <td>528</td>\n",
       "    </tr>\n",
       "    <tr>\n",
       "      <th>1</th>\n",
       "      <td>13</td>\n",
       "      <td>3</td>\n",
       "      <td>0</td>\n",
       "      <td>7</td>\n",
       "      <td>154</td>\n",
       "    </tr>\n",
       "    <tr>\n",
       "      <th>2</th>\n",
       "      <td>16</td>\n",
       "      <td>5</td>\n",
       "      <td>108</td>\n",
       "      <td>11</td>\n",
       "      <td>2104</td>\n",
       "    </tr>\n",
       "    <tr>\n",
       "      <th>3</th>\n",
       "      <td>35</td>\n",
       "      <td>0</td>\n",
       "      <td>0</td>\n",
       "      <td>3</td>\n",
       "      <td>182</td>\n",
       "    </tr>\n",
       "    <tr>\n",
       "      <th>4</th>\n",
       "      <td>1</td>\n",
       "      <td>4</td>\n",
       "      <td>14</td>\n",
       "      <td>2</td>\n",
       "      <td>358</td>\n",
       "    </tr>\n",
       "  </tbody>\n",
       "</table>\n",
       "</div>"
      ],
      "text/plain": [
       "   KSI  TotalYouthServices  CommunityHousing  PlacesOfWorship  SocialHousing\n",
       "0   11                   0                 0               11            528\n",
       "1   13                   3                 0                7            154\n",
       "2   16                   5               108               11           2104\n",
       "3   35                   0                 0                3            182\n",
       "4    1                   4                14                2            358"
      ]
     },
     "execution_count": 117,
     "metadata": {},
     "output_type": "execute_result"
    }
   ],
   "source": [
    "X_test_3.head()"
   ]
  },
  {
   "cell_type": "code",
   "execution_count": 72,
   "metadata": {},
   "outputs": [],
   "source": [
    "def rfr_model3 (X_train_3, y_train,y_test):\n",
    "# Perform Grid-Search\n",
    "    gsc = GridSearchCV(\n",
    "        estimator=RandomForestRegressor(),\\\n",
    "        param_grid={ \\\n",
    "            'max_depth': range(3,7),\\\n",
    "            'n_estimators': (10, 15, 25, 50, 75, 100, 500, 1000),\\\n",
    "        },\\\n",
    "        cv=5, scoring='neg_mean_squared_error', verbose=0, n_jobs=-1)\n",
    "    \n",
    "    grid_result = gsc.fit(X_train_3, y_train)\n",
    "    best_params = grid_result.best_params_\n",
    "    print('Best Parameters', best_params)\n",
    "    \n",
    "    # Instatiate random forsest regressor using results from grid search\n",
    "    rfr=RandomForestRegressor(max_depth=best_params[\"max_depth\"],\\\n",
    "                                n_estimators=best_params[\"n_estimators\"],\\\n",
    "                                random_state=False, verbose=False)\n",
    "    # Fit model to data\n",
    "    rfr.fit(X_train_3, y_train)\n",
    "    \n",
    "    # Predict values\n",
    "    prediction = rfr.predict(X_test_3)\n",
    "    #print('Predictions', prediction)\n",
    "    \n",
    "    # Obtain Mean Absolute Error\n",
    "    mae = mean_absolute_error(y_test, prediction)\n",
    "    print('Mean Absolute Error', mae)\n",
    "    \n",
    "    mse_test = mean_squared_error(y_test, prediction)\n",
    "    print('Mean Squared Error', mse_test)\n",
    "    \n",
    "    # Suppress scientific notation in NumPy when creating array\n",
    "    np.set_printoptions(suppress=True)\n",
    "    \n",
    "    # Obtain Feature Importance\n",
    "    importances = rfr.feature_importances_\n",
    "    \n",
    "    features = list(X_test_3.columns)\n",
    "    \n",
    "    print('Feature Importance Coeff:', (features, importances))\n",
    "    \n",
    "    # Feature Importance chart\n",
    "    feat_importances = pd.Series(rfr.feature_importances_, index=X_test_3.columns)\n",
    "    feat_importances.nlargest(20).plot(kind='barh')\n",
    "  \n",
    "    \n",
    "    return rfr"
   ]
  },
  {
   "cell_type": "code",
   "execution_count": 128,
   "metadata": {},
   "outputs": [
    {
     "name": "stdout",
     "output_type": "stream",
     "text": [
      "Best Parameters {'max_depth': 4, 'n_estimators': 25}\n",
      "Mean Absolute Error 259.29829957335414\n",
      "Mean Squared Error 113180.3699114763\n",
      "Feature Importance Coeff: (['KSI', 'TotalYouthServices', 'CommunityHousing', 'PlacesOfWorship', 'SocialHousing'], array([0.21647607, 0.59838733, 0.01551451, 0.0383252 , 0.13129689]))\n"
     ]
    },
    {
     "data": {
      "image/png": "[encoded data removed]",
      "text/plain": [
       "<Figure size 432x288 with 1 Axes>"
      ]
     },
     "metadata": {
      "needs_background": "light"
     },
     "output_type": "display_data"
    }
   ],
   "source": [
    "Assaults = rfr_model3(X_train_3,\\\n",
    "                          np.ravel(y_train.iloc[:,[0]]),\\\n",
    "                         y_test.iloc[:,[0]])"
   ]
  },
  {
   "cell_type": "code",
   "execution_count": 127,
   "metadata": {},
   "outputs": [
    {
     "name": "stdout",
     "output_type": "stream",
     "text": [
      "Best Parameters {'max_depth': 3, 'n_estimators': 15}\n",
      "Mean Absolute Error 98.4399822106044\n",
      "Mean Squared Error 40341.69353158205\n",
      "Feature Importance Coeff: (['KSI', 'TotalYouthServices', 'CommunityHousing', 'PlacesOfWorship', 'SocialHousing'], array([0.26459059, 0.02155124, 0.02943024, 0.66981182, 0.0146161 ]))\n"
     ]
    },
    {
     "data": {
      "image/png": "[encoded data removed]",
      "text/plain": [
       "<Figure size 432x288 with 1 Axes>"
      ]
     },
     "metadata": {
      "needs_background": "light"
     },
     "output_type": "display_data"
    }
   ],
   "source": [
    "AutoTheft = rfr_model3(X_train_3,\\\n",
    "                          np.ravel(y_train.iloc[:,[1]]),\\\n",
    "                         y_test.iloc[:,[1]])"
   ]
  },
  {
   "cell_type": "code",
   "execution_count": 129,
   "metadata": {},
   "outputs": [
    {
     "name": "stdout",
     "output_type": "stream",
     "text": [
      "Best Parameters {'max_depth': 4, 'n_estimators': 25}\n",
      "Mean Absolute Error 104.77306354482577\n",
      "Mean Squared Error 18458.815621732258\n",
      "Feature Importance Coeff: (['KSI', 'TotalYouthServices', 'CommunityHousing', 'PlacesOfWorship', 'SocialHousing'], array([0.63311548, 0.21541352, 0.01220068, 0.08419214, 0.05507818]))\n"
     ]
    },
    {
     "data": {
      "image/png": "[encoded data removed]",
      "text/plain": [
       "<Figure size 432x288 with 1 Axes>"
      ]
     },
     "metadata": {
      "needs_background": "light"
     },
     "output_type": "display_data"
    }
   ],
   "source": [
    "BreakEnter = rfr_model3(X_train_3,\\\n",
    "                          np.ravel(y_train.iloc[:,[2]]),\\\n",
    "                         y_test.iloc[:,[2]])"
   ]
  },
  {
   "cell_type": "code",
   "execution_count": 130,
   "metadata": {},
   "outputs": [
    {
     "name": "stdout",
     "output_type": "stream",
     "text": [
      "Best Parameters {'max_depth': 4, 'n_estimators': 15}\n",
      "Mean Absolute Error 59.72880822740243\n",
      "Mean Squared Error 6671.896783579392\n",
      "Feature Importance Coeff: (['KSI', 'TotalYouthServices', 'CommunityHousing', 'PlacesOfWorship', 'SocialHousing'], array([0.2968859 , 0.56111058, 0.02098564, 0.02165514, 0.09936274]))\n"
     ]
    },
    {
     "data": {
      "image/png": "[encoded data removed]",
      "text/plain": [
       "<Figure size 432x288 with 1 Axes>"
      ]
     },
     "metadata": {
      "needs_background": "light"
     },
     "output_type": "display_data"
    }
   ],
   "source": [
    "Robbery = rfr_model3(X_train_3,\\\n",
    "                          np.ravel(y_train.iloc[:,[3]]),\\\n",
    "                         y_test.iloc[:,[3]])"
   ]
  },
  {
   "cell_type": "code",
   "execution_count": 73,
   "metadata": {},
   "outputs": [
    {
     "name": "stdout",
     "output_type": "stream",
     "text": [
      "Best Parameters {'max_depth': 5, 'n_estimators': 50}\n",
      "Mean Absolute Error 16.03773243129054\n",
      "Mean Squared Error 534.5694682438175\n",
      "Feature Importance Coeff: (['KSI', 'TotalYouthServices', 'CommunityHousing', 'PlacesOfWorship', 'SocialHousing'], array([0.61177027, 0.21843883, 0.04726386, 0.07795872, 0.04456832]))\n"
     ]
    },
    {
     "data": {
      "image/png": "[encoded data removed]",
      "text/plain": [
       "<Figure size 432x288 with 1 Axes>"
      ]
     },
     "metadata": {
      "needs_background": "light"
     },
     "output_type": "display_data"
    }
   ],
   "source": [
    "TheftOver = rfr_model3(X_train_3,\\\n",
    "                          np.ravel(y_train.iloc[:,[4]]),\\\n",
    "                         y_test.iloc[:,[4]])"
   ]
  },
  {
   "cell_type": "code",
   "execution_count": null,
   "metadata": {},
   "outputs": [],
   "source": []
  },
  {
   "cell_type": "code",
   "execution_count": null,
   "metadata": {},
   "outputs": [],
   "source": []
  },
  {
   "cell_type": "code",
   "execution_count": null,
   "metadata": {},
   "outputs": [],
   "source": []
  },
  {
   "cell_type": "code",
   "execution_count": 13,
   "metadata": {},
   "outputs": [],
   "source": [
    "from sklearn.ensemble import RandomForestRegressor as rfr"
   ]
  },
  {
   "cell_type": "code",
   "execution_count": null,
   "metadata": {},
   "outputs": [],
   "source": []
  },
  {
   "cell_type": "markdown",
   "metadata": {},
   "source": [
    "#CROSS VALIDATION"
   ]
  },
  {
   "cell_type": "code",
   "execution_count": 65,
   "metadata": {},
   "outputs": [
    {
     "data": {
      "text/html": [
       "<div>\n",
       "<style scoped>\n",
       "    .dataframe tbody tr th:only-of-type {\n",
       "        vertical-align: middle;\n",
       "    }\n",
       "\n",
       "    .dataframe tbody tr th {\n",
       "        vertical-align: top;\n",
       "    }\n",
       "\n",
       "    .dataframe thead th {\n",
       "        text-align: right;\n",
       "    }\n",
       "</style>\n",
       "<table border=\"1\" class=\"dataframe\">\n",
       "  <thead>\n",
       "    <tr style=\"text-align: right;\">\n",
       "      <th></th>\n",
       "      <th>Assault</th>\n",
       "      <th>Auto Theft</th>\n",
       "      <th>Break and Enter</th>\n",
       "      <th>Robbery</th>\n",
       "      <th>Theft Over</th>\n",
       "    </tr>\n",
       "  </thead>\n",
       "  <tbody>\n",
       "    <tr>\n",
       "      <th>0</th>\n",
       "      <td>610</td>\n",
       "      <td>64</td>\n",
       "      <td>390</td>\n",
       "      <td>123</td>\n",
       "      <td>31</td>\n",
       "    </tr>\n",
       "    <tr>\n",
       "      <th>1</th>\n",
       "      <td>608</td>\n",
       "      <td>97</td>\n",
       "      <td>170</td>\n",
       "      <td>123</td>\n",
       "      <td>35</td>\n",
       "    </tr>\n",
       "    <tr>\n",
       "      <th>2</th>\n",
       "      <td>1077</td>\n",
       "      <td>283</td>\n",
       "      <td>303</td>\n",
       "      <td>247</td>\n",
       "      <td>26</td>\n",
       "    </tr>\n",
       "    <tr>\n",
       "      <th>3</th>\n",
       "      <td>794</td>\n",
       "      <td>52</td>\n",
       "      <td>409</td>\n",
       "      <td>147</td>\n",
       "      <td>48</td>\n",
       "    </tr>\n",
       "    <tr>\n",
       "      <th>4</th>\n",
       "      <td>453</td>\n",
       "      <td>54</td>\n",
       "      <td>168</td>\n",
       "      <td>117</td>\n",
       "      <td>28</td>\n",
       "    </tr>\n",
       "  </tbody>\n",
       "</table>\n",
       "</div>"
      ],
      "text/plain": [
       "   Assault  Auto Theft  Break and Enter  Robbery  Theft Over\n",
       "0      610          64              390      123          31\n",
       "1      608          97              170      123          35\n",
       "2     1077         283              303      247          26\n",
       "3      794          52              409      147          48\n",
       "4      453          54              168      117          28"
      ]
     },
     "execution_count": 65,
     "metadata": {},
     "output_type": "execute_result"
    }
   ],
   "source": [
    "y_train.head()"
   ]
  },
  {
   "cell_type": "code",
   "execution_count": null,
   "metadata": {},
   "outputs": [],
   "source": []
  },
  {
   "cell_type": "code",
   "execution_count": null,
   "metadata": {},
   "outputs": [],
   "source": []
  },
  {
   "cell_type": "code",
   "execution_count": null,
   "metadata": {},
   "outputs": [],
   "source": []
  },
  {
   "cell_type": "code",
   "execution_count": 17,
   "metadata": {},
   "outputs": [],
   "source": [
    "from sklearn.model_selection import KFold, RepeatedKFold, cross_validate"
   ]
  },
  {
   "cell_type": "code",
   "execution_count": null,
   "metadata": {},
   "outputs": [],
   "source": []
  },
  {
   "cell_type": "markdown",
   "metadata": {},
   "source": [
    "# FINAL RF MODEL"
   ]
  },
  {
   "cell_type": "code",
   "execution_count": 18,
   "metadata": {},
   "outputs": [],
   "source": [
    "def rfr_model_err3 (X_train_3, y_train,y_test):\n",
    "# Perform Grid-Search\n",
    "    gsc = GridSearchCV(\n",
    "        estimator=RandomForestRegressor(),\\\n",
    "        param_grid={ \\\n",
    "            'max_depth': range(3,7),\\\n",
    "            'n_estimators': (10, 15, 25, 50, 75, 100, 500, 1000),\\\n",
    "        },\\\n",
    "        cv=5, scoring='neg_mean_squared_error', verbose=0, n_jobs=-1)\n",
    "    \n",
    "    grid_result = gsc.fit(X_train_3, y_train)\n",
    "    best_params = grid_result.best_params_\n",
    "    print('Best Parameters', best_params)\n",
    "    print(\"---------------------------------------------------------\")\n",
    "    \n",
    "    # Instatiate random forsest regressor using results from grid search\n",
    "    rfr=RandomForestRegressor(max_depth=best_params[\"max_depth\"],\\\n",
    "                                n_estimators=best_params[\"n_estimators\"],\\\n",
    "                                random_state=False, verbose=False)\n",
    "    # Fit model to data\n",
    "    rfr.fit(X_train_3, y_train)\n",
    "    \n",
    "    # Predict values\n",
    "    prediction = rfr.predict(X_test_3)\n",
    "    print('Predictions', prediction)\n",
    "    print(\"---------------------------------------------------------\")\n",
    "    \n",
    "    diff = (y_test - prediction)\n",
    "    print(\"Errors\",diff)\n",
    "    \n",
    "    #pd.DataFrame(diff).to_csv(\"2_Output/4_mse/TheftOver_errors2.csv\")\n",
    "    \n",
    "    print(\"---------------------------------------------------------\")\n",
    "    \n",
    "    # identify outliers with interquartile range\n",
    "    data = diff\n",
    "    \n",
    "    # Plot histogram and adjust style\n",
    "    plt.hist(diff, edgecolor='black', linewidth=1.2)\n",
    "    plt.title(\"Errors Histogram\")\n",
    "    plt.ylabel('Number of Neighbourhoods')\n",
    "    plt.xlabel('y-y^')\n",
    "    \n",
    "    # calculate interquartile range\n",
    "    q25, q75 = percentile(data, 25), percentile(data, 75)\n",
    "    iqr = q75 - q25\n",
    "    print('Percentiles: 25th=%.3f, 75th=%.3f, IQR=%.3f' % (q25, q75, iqr))\n",
    "    # calculate the outlier cutoff\n",
    "    cut_off = iqr * 1.5\n",
    "    lower, upper = q25 - cut_off, q75 + cut_off\n",
    "    # identify outliers\n",
    "    outliers = [x for x in data if x < lower or x > upper]\n",
    "    print('Identified outliers: %d' % len(outliers))\n",
    "    # remove outliers\n",
    "    outliers_removed = [x for x in data if x >= lower and x <= upper]\n",
    "    print('Non-outlier observations: %d' % len(outliers_removed))\n",
    "    \n",
    "    print(\"---------------------------------------------------------\")\n",
    "    \n",
    "    # Obtain Mean Absolute Error\n",
    "    mae = mean_absolute_error(y_test, prediction)\n",
    "    print('Mean Absolute Error', mae)\n",
    "    \n",
    "    mse_test = mean_squared_error(y_test, prediction)\n",
    "    print('Mean Squared Error', mse_test)\n",
    "    \n",
    "    #r2_ = r2_score(y_test, prediction)\n",
    "    #print(\"R-squared:\",r2_)\n",
    "    \n",
    "    print(\"---------------------------------------------------------\")\n",
    "    \n",
    "    # Suppress scientific notation in NumPy when creating array\n",
    "    np.set_printoptions(suppress=True)\n",
    "    \n",
    "    # Obtain Feature Importance\n",
    "    importances = rfr.feature_importances_\n",
    "    \n",
    "    features = list(X_test_3.columns)\n",
    "    \n",
    "    print('Feature Importance Coeff:', (features, importances))\n",
    "    \n",
    "    print(\"---------------------------------------------------------\")\n",
    "    \n",
    "    # Feature Importance chart\n",
    "    feat_importances = pd.Series(rfr.feature_importances_, index=X_test_3.columns)\n",
    "    #feat_importances.nlargest(20).plot(kind='barh')\n",
    "    features = ['KSI', 'TotalYouthServices', 'CommunityHousing', 'PlacesOfWorship', 'SocialHousing']\n",
    "    plt.figure(figsize=(10,5))\n",
    "    plt.bar(features, feat_importances)\n",
    "    plt.title('Feature Importance')\n",
    "    plt.ylabel('Coefficient')\n",
    "    plt.xlabel('Feature')\n",
    "\n",
    "    print(\"---------------------------------------------------------\")\n",
    "    \n",
    "    ## Perform K-Fold CV\n",
    "    ## Try using cross_val_score\n",
    "    #scores=cross_val_score(rfr, X_train_3, y_train.ravel(),\\\n",
    "                       #cv=10, \\\n",
    "                       #scoring='neg_mean_absolute_error')\n",
    "    #print('scores', scores)\n",
    "    \n",
    "    ## Try using make_scorer\n",
    "    #scorer = make_scorer(mean_squared_error, greater_is_better=False)\n",
    "    #cv_score = np.sqrt(-cross_val_score(estimator=rfr, X=X_train_3, y=y_train.ravel(), cv=10, scoring = scorer))\n",
    "    #print('cv_scores', cv_score)\n",
    "    \n",
    "    #plt.figure(figsize=(10,5))\n",
    "    #plt.bar(range(len(cv_score)), cv_score)\n",
    "    #plt.title('Cross Validation Score')\n",
    "    #plt.ylabel('RMSE')\n",
    "    #plt.xlabel('Iteration')\n",
    "\n",
    "    #plt.plot(range(len(cv_score) + 1), [cv_score.mean()] * (len(cv_score) + 1))\n",
    "    #plt.tight_layout()\n",
    "    \n",
    "      ## Try variance scores\n",
    "    #yt = [i for i in y_train]\n",
    "    #scores_rfr = cross_val_score(rfr,X_train_3,yt,cv=10,scoring='explained_variance')\n",
    "    #print('explained variance scores for k=10 fold validation:',scores_rfr)\n",
    "    #print(\"Est. explained variance: %0.2f (+/- %0.2f)\" % (scores_rfr.mean(), scores_rfr.std() * 2))\n",
    "    \n",
    "    #print(\"---------------------------------------------------------\")\n",
    "    \n",
    "    # KFold cross_validate\n",
    "    # https://scikit-learn.org/stable/modules/generated/sklearn.model_selection.cross_validate.html\n",
    "    # Kfold CV\n",
    "    kf = KFold(n_splits=10, shuffle=True, random_state=24)\n",
    "    cval_score = cross_validate(rfr,X_train_3, y_train, cv=kf,\\\n",
    "                                scoring = ('r2','neg_mean_squared_error'),\\\n",
    "                                return_train_score=True)\n",
    "    print('kfold CV neg MSE', cval_score['test_neg_mean_squared_error'])\n",
    "    print('kFold R^2',cval_score['train_r2'])\n",
    "    print('10-KFold folds:',kf)\n",
    "    \n",
    "        #################\n",
    "    plt.figure(figsize=(10,5))\n",
    "    plt.bar(range(len(cval_score['test_neg_mean_squared_error'])), cval_score['test_neg_mean_squared_error'])\n",
    "    plt.title('10-Fold Cross Validation Score')\n",
    "    plt.ylabel('neg_MSE')\n",
    "    plt.xlabel('Iteration')\n",
    "\n",
    "    plt.plot(range(len(cval_score['test_neg_mean_squared_error']) + 1), \\\n",
    "             [cval_score['test_neg_mean_squared_error'].mean()] * (len(cval_score['test_neg_mean_squared_error']) + 1))\n",
    "    plt.tight_layout()\n",
    "    \n",
    "    print(\"---------------------------------------------------------\")\n",
    "    \n",
    "    kf5 = KFold(n_splits=5, shuffle=True, random_state=24)\n",
    "    cval_score5 = cross_validate(rfr,X_train_3, y_train, cv=kf5,\\\n",
    "                                scoring = ('r2','neg_mean_squared_error'),\\\n",
    "                                return_train_score=True)\n",
    "    print('kfold CV neg MSE', cval_score5['test_neg_mean_squared_error'])\n",
    "    print('kFold R^2',cval_score5['train_r2'])\n",
    "    print('5-Fold folds:',kf5)\n",
    "    \n",
    "        #################\n",
    "    plt.figure(figsize=(10,5))\n",
    "    plt.bar(range(len(cval_score5['test_neg_mean_squared_error'])), cval_score5['test_neg_mean_squared_error'])\n",
    "    plt.title('5-Fold Cross Validation Score')\n",
    "    plt.ylabel('neg_MSE')\n",
    "    plt.xlabel('Iteration')\n",
    "\n",
    "    plt.plot(range(len(cval_score5['test_neg_mean_squared_error']) + 1), \\\n",
    "             [cval_score5['test_neg_mean_squared_error'].mean()] * (len(cval_score5['test_neg_mean_squared_error']) + 1))\n",
    "    plt.tight_layout()\n",
    "    \n",
    "    print(\"---------------------------------------------------------\")\n",
    "    \n",
    "    plt.figure(figsize=(10, 5))\n",
    "    plt.scatter(y_test, prediction, s=20)\n",
    "    plt.title('Predicted vs. Actual')\n",
    "    plt.xlabel('Actual')\n",
    "    plt.ylabel('Predicted')\n",
    "\n",
    "    plt.plot([min(y_test), max(y_test)], [min(y_test), max(y_test)])\n",
    "    #p1 = max(max(prediction), max(y_test)) #test\n",
    "    #p2 = min(min(prediction), min(y_test))  #test\n",
    "    #plt.plot([p1, p2], [p1, p2], 'b-') #test\n",
    "    \n",
    "    plt.tight_layout()\n",
    "    \n",
    "    return rfr"
   ]
  },
  {
   "cell_type": "code",
   "execution_count": 42,
   "metadata": {},
   "outputs": [
    {
     "data": {
      "text/html": [
       "<div>\n",
       "<style scoped>\n",
       "    .dataframe tbody tr th:only-of-type {\n",
       "        vertical-align: middle;\n",
       "    }\n",
       "\n",
       "    .dataframe tbody tr th {\n",
       "        vertical-align: top;\n",
       "    }\n",
       "\n",
       "    .dataframe thead th {\n",
       "        text-align: right;\n",
       "    }\n",
       "</style>\n",
       "<table border=\"1\" class=\"dataframe\">\n",
       "  <thead>\n",
       "    <tr style=\"text-align: right;\">\n",
       "      <th></th>\n",
       "      <th>KSI</th>\n",
       "      <th>TotalYouthServices</th>\n",
       "      <th>CommunityHousing</th>\n",
       "      <th>PlacesOfWorship</th>\n",
       "      <th>SocialHousing</th>\n",
       "    </tr>\n",
       "  </thead>\n",
       "  <tbody>\n",
       "    <tr>\n",
       "      <th>0</th>\n",
       "      <td>34</td>\n",
       "      <td>10</td>\n",
       "      <td>50</td>\n",
       "      <td>7</td>\n",
       "      <td>860</td>\n",
       "    </tr>\n",
       "    <tr>\n",
       "      <th>1</th>\n",
       "      <td>13</td>\n",
       "      <td>1</td>\n",
       "      <td>2</td>\n",
       "      <td>4</td>\n",
       "      <td>664</td>\n",
       "    </tr>\n",
       "    <tr>\n",
       "      <th>2</th>\n",
       "      <td>30</td>\n",
       "      <td>4</td>\n",
       "      <td>2</td>\n",
       "      <td>12</td>\n",
       "      <td>1036</td>\n",
       "    </tr>\n",
       "    <tr>\n",
       "      <th>3</th>\n",
       "      <td>47</td>\n",
       "      <td>11</td>\n",
       "      <td>1</td>\n",
       "      <td>11</td>\n",
       "      <td>326</td>\n",
       "    </tr>\n",
       "    <tr>\n",
       "      <th>4</th>\n",
       "      <td>17</td>\n",
       "      <td>15</td>\n",
       "      <td>0</td>\n",
       "      <td>6</td>\n",
       "      <td>0</td>\n",
       "    </tr>\n",
       "    <tr>\n",
       "      <th>...</th>\n",
       "      <td>...</td>\n",
       "      <td>...</td>\n",
       "      <td>...</td>\n",
       "      <td>...</td>\n",
       "      <td>...</td>\n",
       "    </tr>\n",
       "    <tr>\n",
       "      <th>93</th>\n",
       "      <td>28</td>\n",
       "      <td>5</td>\n",
       "      <td>6</td>\n",
       "      <td>9</td>\n",
       "      <td>59</td>\n",
       "    </tr>\n",
       "    <tr>\n",
       "      <th>94</th>\n",
       "      <td>161</td>\n",
       "      <td>9</td>\n",
       "      <td>7</td>\n",
       "      <td>22</td>\n",
       "      <td>736</td>\n",
       "    </tr>\n",
       "    <tr>\n",
       "      <th>95</th>\n",
       "      <td>25</td>\n",
       "      <td>10</td>\n",
       "      <td>6</td>\n",
       "      <td>5</td>\n",
       "      <td>98</td>\n",
       "    </tr>\n",
       "    <tr>\n",
       "      <th>96</th>\n",
       "      <td>161</td>\n",
       "      <td>32</td>\n",
       "      <td>26</td>\n",
       "      <td>27</td>\n",
       "      <td>2594</td>\n",
       "    </tr>\n",
       "    <tr>\n",
       "      <th>97</th>\n",
       "      <td>9</td>\n",
       "      <td>0</td>\n",
       "      <td>0</td>\n",
       "      <td>5</td>\n",
       "      <td>0</td>\n",
       "    </tr>\n",
       "  </tbody>\n",
       "</table>\n",
       "<p>98 rows × 5 columns</p>\n",
       "</div>"
      ],
      "text/plain": [
       "    KSI  TotalYouthServices  CommunityHousing  PlacesOfWorship  SocialHousing\n",
       "0    34                  10                50                7            860\n",
       "1    13                   1                 2                4            664\n",
       "2    30                   4                 2               12           1036\n",
       "3    47                  11                 1               11            326\n",
       "4    17                  15                 0                6              0\n",
       "..  ...                 ...               ...              ...            ...\n",
       "93   28                   5                 6                9             59\n",
       "94  161                   9                 7               22            736\n",
       "95   25                  10                 6                5             98\n",
       "96  161                  32                26               27           2594\n",
       "97    9                   0                 0                5              0\n",
       "\n",
       "[98 rows x 5 columns]"
      ]
     },
     "execution_count": 42,
     "metadata": {},
     "output_type": "execute_result"
    }
   ],
   "source": [
    "X_train_3"
   ]
  },
  {
   "cell_type": "code",
   "execution_count": 19,
   "metadata": {
    "scrolled": false
   },
   "outputs": [
    {
     "name": "stdout",
     "output_type": "stream",
     "text": [
      "Best Parameters {'max_depth': 4, 'n_estimators': 50}\n",
      "---------------------------------------------------------\n",
      "Predictions [ 536.75987685  346.61722557 1144.76918482  273.27572749  522.21588013\n",
      " 1172.59771973  505.69793449  462.77712765  799.12745697 1086.49866154\n",
      "  525.14504671 1164.98548096  616.74315843  753.40405583  579.37419441\n",
      "  622.67160546  596.78823143  882.91934389  763.8736922   714.56678408\n",
      "  608.53669049 1192.69235951  613.73483093  540.59853218  565.98554104\n",
      "  273.80464416  590.35008551  609.88813807  279.95350505 1338.7627903\n",
      "  555.22804882  646.17060293  693.36149025 3187.51       2102.68955046\n",
      "  262.38241005  256.17241837 1070.71420817  854.99912873  252.18503393\n",
      "  617.17051455  351.06376169]\n",
      "---------------------------------------------------------\n",
      "Errors [ 372.24012315   44.38277443 -525.76918482    1.72427251 -197.21588013\n",
      "  271.40228027  -48.69793449 -241.77712765 -422.12745697  350.50133846\n",
      " -293.14504671 -685.98548096 -257.74315843  198.59594417 -412.37419441\n",
      "   30.32839454  275.21176857 -221.91934389  541.1263078  -111.56678408\n",
      "  -28.53669049  121.30764049  227.26516907 -352.59853218 -381.98554104\n",
      "    3.19535584 -270.35008551 -212.88813807  -72.95350505  137.2372097\n",
      "  388.77195118  -59.17060293 -335.36149025 -986.51       -529.68955046\n",
      "  104.61758995   14.82758163 -387.71420817 -260.99912873  -36.18503393\n",
      "  -43.17051455 -168.06376169]\n",
      "---------------------------------------------------------\n",
      "Percentiles: 25th=-287.446, 75th=89.559, IQR=377.005\n",
      "Identified outliers: 1\n",
      "Non-outlier observations: 41\n",
      "---------------------------------------------------------\n",
      "Mean Absolute Error 253.02938279480944\n",
      "Mean Squared Error 105164.46384244991\n",
      "R-squared: 0.5197119663922087\n",
      "---------------------------------------------------------\n",
      "Feature Importance Coeff: (['KSI', 'TotalYouthServices', 'CommunityHousing', 'PlacesOfWorship', 'SocialHousing'], array([0.19581112, 0.57509721, 0.01371758, 0.03779444, 0.17757965]))\n",
      "---------------------------------------------------------\n",
      "---------------------------------------------------------\n",
      "kfold CV neg MSE [-117484.13430772 -392582.13887336  -74215.4539023   -51101.73390145\n",
      "  -50330.68163917 -327300.14464889 -283408.08908898 -100931.76845297\n",
      " -238931.47452492 -831343.8394648 ]\n",
      "kFold R^2 [0.93438187 0.91693738 0.92668571 0.92887584 0.92912168 0.93565253\n",
      " 0.9245393  0.92180644 0.92320393 0.91501807]\n",
      "10-KFold folds: KFold(n_splits=10, random_state=24, shuffle=True)\n",
      "---------------------------------------------------------\n",
      "kfold CV neg MSE [-323868.31283545  -66532.64396405 -204961.31351389 -212509.23073719\n",
      " -591517.59473605]\n",
      "kFold R^2 [0.91616199 0.91846432 0.92960294 0.91774759 0.92035705]\n",
      "5-Fold folds: KFold(n_splits=5, random_state=24, shuffle=True)\n",
      "---------------------------------------------------------\n"
     ]
    },
    {
     "data": {
      "image/png": "[encoded data removed]",
      "text/plain": [
       "<Figure size 432x288 with 1 Axes>"
      ]
     },
     "metadata": {
      "needs_background": "light"
     },
     "output_type": "display_data"
    },
    {
     "data": {
      "image/png": "[encoded data removed]",
      "text/plain": [
       "<Figure size 720x360 with 1 Axes>"
      ]
     },
     "metadata": {
      "needs_background": "light"
     },
     "output_type": "display_data"
    },
    {
     "data": {
      "image/png": "[encoded data removed]",
      "text/plain": [
       "<Figure size 720x360 with 1 Axes>"
      ]
     },
     "metadata": {
      "needs_background": "light"
     },
     "output_type": "display_data"
    },
    {
     "data": {
      "image/png": "[encoded data removed]",
      "text/plain": [
       "<Figure size 720x360 with 1 Axes>"
      ]
     },
     "metadata": {
      "needs_background": "light"
     },
     "output_type": "display_data"
    },
    {
     "data": {
      "image/png": "[encoded data removed]",
      "text/plain": [
       "<Figure size 720x360 with 1 Axes>"
      ]
     },
     "metadata": {
      "needs_background": "light"
     },
     "output_type": "display_data"
    }
   ],
   "source": [
    "Assaults3 = rfr_model_err3(X_train_3,\\\n",
    "                          np.ravel(y_train.iloc[:,[0]]),\\\n",
    "                         np.ravel(y_test.iloc[:,[0]]))"
   ]
  },
  {
   "cell_type": "code",
   "execution_count": 52,
   "metadata": {
    "scrolled": false
   },
   "outputs": [
    {
     "name": "stdout",
     "output_type": "stream",
     "text": [
      "Best Parameters {'max_depth': 4, 'n_estimators': 15}\n",
      "---------------------------------------------------------\n",
      "Predictions [ 500.83703718  342.70423617 1036.32305195  268.76611092  471.56016077\n",
      " 1226.99539691  519.02709207  404.52275862  810.93804909 1107.13571495\n",
      "  499.02509231 1180.54833981  584.03065342  690.63648676  549.37077113\n",
      "  589.79886567  529.26019943  995.62805963  708.97345645  711.39082825\n",
      "  565.69368373 1171.06934107  584.03065342  514.21839675  585.97096728\n",
      "  258.03583314  560.25435292  664.33728438  294.29824125 1191.03259148\n",
      "  537.81363484  596.68783722  688.46131883 3271.63333333 2016.87125023\n",
      "  275.22900243  243.52535695 1052.53541423 1054.66272204  246.3721102\n",
      "  571.46189598  325.92187761]\n",
      "---------------------------------------------------------\n",
      "Errors [  408.16296282    48.29576383  -417.32305195     6.23388908\n",
      "  -146.56016077   217.00460309   -62.02709207  -183.52275862\n",
      "  -433.93804909   329.86428505  -267.02509231  -701.54833981\n",
      "  -225.03065342   261.36351324  -382.37077113    63.20113433\n",
      "   342.73980057  -334.62805963   596.02654355  -108.39082825\n",
      "    14.30631627   142.93065893   256.96934658  -326.21839675\n",
      "  -401.97096728    18.96416686  -240.25435292  -267.33728438\n",
      "   -87.29824125   284.96740852   406.18636516    -9.68783722\n",
      "  -330.46131883 -1070.63333333  -443.87125023    91.77099757\n",
      "    27.47464305  -369.53541423  -460.66272204   -30.3721102\n",
      "     2.53810402  -142.92187761]\n",
      "---------------------------------------------------------\n",
      "Percentiles: 25th=-329.401, 75th=84.629, IQR=414.029\n",
      "Identified outliers: 1\n",
      "Non-outlier observations: 41\n",
      "---------------------------------------------------------\n",
      "Mean Absolute Error 261.0140587095137\n",
      "Mean Squared Error 112983.61676545942\n",
      "---------------------------------------------------------\n",
      "Feature Importance Coeff: (['KSI', 'TotalYouthServices', 'CommunityHousing', 'PlacesOfWorship', 'SocialHousing'], array([0.27092161, 0.55013736, 0.01833628, 0.03622848, 0.12437626]))\n",
      "---------------------------------------------------------\n",
      "---------------------------------------------------------\n",
      "kfold CV neg MSE [-127638.00935979 -444174.50612637  -73341.38015315  -42814.88776187\n",
      "  -57415.47616563 -363339.947997   -297539.82434366 -103412.81468055\n",
      " -191907.83435525 -727273.26232076]\n",
      "kFold R^2 [0.93284338 0.91116867 0.9123103  0.91829344 0.92821915 0.92300951\n",
      " 0.9074144  0.89684937 0.88458982 0.91218331]\n",
      "10-KFold folds: KFold(n_splits=10, random_state=24, shuffle=True)\n",
      "---------------------------------------------------------\n",
      "kfold CV neg MSE [-294753.97648251  -67398.54147006 -208848.94922357 -210277.33833252\n",
      " -592316.93538049]\n",
      "kFold R^2 [0.89733173 0.88091078 0.94070609 0.90023285 0.90120315]\n",
      "5-Fold folds: KFold(n_splits=5, random_state=24, shuffle=True)\n",
      "---------------------------------------------------------\n"
     ]
    },
    {
     "data": {
      "image/png": "[encoded data removed]",
      "text/plain": [
       "<Figure size 432x288 with 1 Axes>"
      ]
     },
     "metadata": {
      "needs_background": "light"
     },
     "output_type": "display_data"
    },
    {
     "data": {
      "image/png": "[encoded data removed]",
      "text/plain": [
       "<Figure size 720x360 with 1 Axes>"
      ]
     },
     "metadata": {
      "needs_background": "light"
     },
     "output_type": "display_data"
    },
    {
     "data": {
      "image/png": "[encoded data removed]",
      "text/plain": [
       "<Figure size 720x360 with 1 Axes>"
      ]
     },
     "metadata": {
      "needs_background": "light"
     },
     "output_type": "display_data"
    },
    {
     "data": {
      "image/png": "[encoded data removed]",
      "text/plain": [
       "<Figure size 720x360 with 1 Axes>"
      ]
     },
     "metadata": {
      "needs_background": "light"
     },
     "output_type": "display_data"
    },
    {
     "data": {
      "image/png": "[encoded data removed]",
      "text/plain": [
       "<Figure size 720x360 with 1 Axes>"
      ]
     },
     "metadata": {
      "needs_background": "light"
     },
     "output_type": "display_data"
    }
   ],
   "source": [
    "Assaults3 = rfr_model_err3(X_train_3,\\\n",
    "                          np.ravel(y_train.iloc[:,[0]]),\\\n",
    "                         np.ravel(y_test.iloc[:,[0]]))"
   ]
  },
  {
   "cell_type": "code",
   "execution_count": 20,
   "metadata": {
    "scrolled": false
   },
   "outputs": [
    {
     "name": "stdout",
     "output_type": "stream",
     "text": [
      "Best Parameters {'max_depth': 6, 'n_estimators': 15}\n",
      "---------------------------------------------------------\n",
      "Predictions [ 128.39384615   87.58579295   88.41930331  139.32383418   77.73944056\n",
      "  237.5778744   147.99845079  140.21910213  161.08200138  449.33333333\n",
      "  138.84924444  211.97311249   86.51888817  102.86515961   88.6872177\n",
      "   76.41632629  119.42120763  122.26281979   92.79026187  148.86056457\n",
      "   90.61603103  179.84598887   67.24567694  186.8997601    85.10408425\n",
      "  147.52383418  131.88455186  159.26111935   62.77019662  450.1\n",
      "  127.1182425   114.79169472  150.15575092  396.6         208.63861514\n",
      "  104.17275062  145.08573894  125.87357143 1244.          116.06232198\n",
      "   62.73854851   75.68130773]\n",
      "---------------------------------------------------------\n",
      "Errors [  -29.39384615   -55.58579295    82.58069669  -114.32383418\n",
      "    35.26055944    44.4221256    -25.99845079   -99.21910213\n",
      "   -29.08200138  -257.33333333    11.15075556   -80.97311249\n",
      "   -28.51888817   -17.86515961   -36.6872177     22.58367371\n",
      "   150.57879237    43.73718021   200.20973813   -70.86056457\n",
      "   -34.61603103   -48.84598887   -20.24567694   -60.8997601\n",
      "   -32.10408425   -90.52383418    20.11544814   -89.26111935\n",
      "   -44.77019662  -318.1           61.8817575     -8.79169472\n",
      "   -55.15575092  -231.6          -60.63861514   -30.17275062\n",
      "   -64.08573894   -78.87357143 -1091.            -7.06232198\n",
      "    18.26145149    14.31869227]\n",
      "---------------------------------------------------------\n",
      "Percentiles: 25th=-69.167, 75th=13.527, IQR=82.694\n",
      "Identified outliers: 6\n",
      "Non-outlier observations: 36\n",
      "---------------------------------------------------------\n",
      "Mean Absolute Error 93.27831689598028\n",
      "Mean Squared Error 37592.20161990725\n",
      "R-squared: -7.944534853162436\n",
      "---------------------------------------------------------\n",
      "Feature Importance Coeff: (['KSI', 'TotalYouthServices', 'CommunityHousing', 'PlacesOfWorship', 'SocialHousing'], array([0.26980017, 0.02497961, 0.0284841 , 0.63160595, 0.04513017]))\n",
      "---------------------------------------------------------\n",
      "---------------------------------------------------------\n",
      "kfold CV neg MSE [ -10320.23549411   -8495.26108866   -2197.30533598  -10831.80678045\n",
      "   -5666.5478422    -2431.15486272 -252065.64869049   -5150.50556796\n",
      "  -44156.07653183  -85003.96365721]\n",
      "kFold R^2 [0.86811596 0.87231646 0.83241595 0.89203272 0.87038039 0.8904009\n",
      " 0.87922906 0.88437749 0.87786316 0.94593945]\n",
      "10-KFold folds: KFold(n_splits=10, random_state=24, shuffle=True)\n",
      "---------------------------------------------------------\n",
      "kfold CV neg MSE [ -10470.65991515   -5519.453094     -7752.35457057 -139577.74844199\n",
      "  -32579.45191867]\n",
      "kFold R^2 [0.91056602 0.90274615 0.8710803  0.91497522 0.87859378]\n",
      "5-Fold folds: KFold(n_splits=5, random_state=24, shuffle=True)\n",
      "---------------------------------------------------------\n"
     ]
    },
    {
     "data": {
      "image/png": "[encoded data removed]",
      "text/plain": [
       "<Figure size 432x288 with 1 Axes>"
      ]
     },
     "metadata": {
      "needs_background": "light"
     },
     "output_type": "display_data"
    },
    {
     "data": {
      "image/png": "[encoded data removed]",
      "text/plain": [
       "<Figure size 720x360 with 1 Axes>"
      ]
     },
     "metadata": {
      "needs_background": "light"
     },
     "output_type": "display_data"
    },
    {
     "data": {
      "image/png": "[encoded data removed]",
      "text/plain": [
       "<Figure size 720x360 with 1 Axes>"
      ]
     },
     "metadata": {
      "needs_background": "light"
     },
     "output_type": "display_data"
    },
    {
     "data": {
      "image/png": "[encoded data removed]",
      "text/plain": [
       "<Figure size 720x360 with 1 Axes>"
      ]
     },
     "metadata": {
      "needs_background": "light"
     },
     "output_type": "display_data"
    },
    {
     "data": {
      "image/png": "[encoded data removed]",
      "text/plain": [
       "<Figure size 720x360 with 1 Axes>"
      ]
     },
     "metadata": {
      "needs_background": "light"
     },
     "output_type": "display_data"
    }
   ],
   "source": [
    "AUtoTheft3 = rfr_model_err3(X_train_3,\\\n",
    "                          np.ravel(y_train.iloc[:,[1]]),\\\n",
    "                         np.ravel(y_test.iloc[:,[1]]))"
   ]
  },
  {
   "cell_type": "code",
   "execution_count": 56,
   "metadata": {
    "scrolled": false
   },
   "outputs": [
    {
     "name": "stdout",
     "output_type": "stream",
     "text": [
      "Best Parameters {'max_depth': 6, 'n_estimators': 100}\n",
      "---------------------------------------------------------\n",
      "Predictions [238.94877768 170.98277176 274.84221654 276.25662362 129.55071456\n",
      " 456.18933363 305.54842774 236.22843659 337.44415209 420.26249012\n",
      " 287.82062778 490.8374026  187.6343501  260.69242422 139.7059541\n",
      " 179.60260272 175.88610652 167.62843776 260.30999544 248.4412159\n",
      " 171.21847058 334.97530335 153.42764963 181.8508851  130.25271456\n",
      " 264.35759657 267.04209183 321.34909323 154.88561156 386.08683353\n",
      " 196.89081262 267.51858373 206.66028311 612.83083333 491.54379804\n",
      " 162.89729496 260.31576199 318.42889958 365.1796773  159.77605172\n",
      " 178.16603643 187.80092503]\n",
      "---------------------------------------------------------\n",
      "Errors [   0.05122232  -64.98277176    0.15778346 -160.25662362  -66.55071456\n",
      "  -77.18933363  -68.54842774  -79.22843659 -217.44415209  216.73750988\n",
      "   51.17937222  -52.8374026   -89.6343501   110.30757578  153.2940459\n",
      "  109.39739728  170.11389348  103.37156224  -88.30999544  -69.4412159\n",
      "  -20.21847058  -65.97530335  -27.42764963  -40.8508851   -56.25271456\n",
      " -149.35759657 -153.04209183  -23.34909323  -57.88561156  497.91316647\n",
      "  194.10918738  147.48141627 -115.66028311  290.16916667   18.45620196\n",
      "   17.10270504 -142.31576199  116.57110042 -114.1796773   -24.77605172\n",
      "  144.83396357   30.19907497]\n",
      "---------------------------------------------------------\n",
      "Percentiles: 25th=-75.252, 75th=107.891, IQR=183.143\n",
      "Identified outliers: 1\n",
      "Non-outlier observations: 41\n",
      "---------------------------------------------------------\n",
      "Mean Absolute Error 104.69430856895208\n",
      "Mean Squared Error 18899.060256802702\n",
      "---------------------------------------------------------\n",
      "Feature Importance Coeff: (['KSI', 'TotalYouthServices', 'CommunityHousing', 'PlacesOfWorship', 'SocialHousing'], array([0.53100126, 0.25481271, 0.02059056, 0.11217552, 0.08141995]))\n",
      "---------------------------------------------------------\n",
      "---------------------------------------------------------\n",
      "kfold CV neg MSE [-16198.18401543  -6895.23214074  -5244.55982878  -5005.06545481\n",
      "  -4401.67515725 -44844.55984448 -22882.77520955 -14575.5813287\n",
      " -10353.39426657 -81483.96462954]\n",
      "kFold R^2 [0.93342561 0.92047036 0.92351073 0.93475338 0.93183329 0.94226183\n",
      " 0.94101024 0.93471587 0.9342722  0.92082821]\n",
      "10-KFold folds: KFold(n_splits=10, random_state=24, shuffle=True)\n",
      "---------------------------------------------------------\n",
      "kfold CV neg MSE [-11614.06046632  -6134.34922456 -23991.23241337 -21861.47193241\n",
      " -48208.31024368]\n",
      "kFold R^2 [0.9247906  0.93883336 0.92975338 0.95088545 0.93386067]\n",
      "5-Fold folds: KFold(n_splits=5, random_state=24, shuffle=True)\n",
      "---------------------------------------------------------\n"
     ]
    },
    {
     "data": {
      "image/png": "[encoded data removed]",
      "text/plain": [
       "<Figure size 432x288 with 1 Axes>"
      ]
     },
     "metadata": {
      "needs_background": "light"
     },
     "output_type": "display_data"
    },
    {
     "data": {
      "image/png": "[encoded data removed]",
      "text/plain": [
       "<Figure size 720x360 with 1 Axes>"
      ]
     },
     "metadata": {
      "needs_background": "light"
     },
     "output_type": "display_data"
    },
    {
     "data": {
      "image/png": "[encoded data removed]",
      "text/plain": [
       "<Figure size 720x360 with 1 Axes>"
      ]
     },
     "metadata": {
      "needs_background": "light"
     },
     "output_type": "display_data"
    },
    {
     "data": {
      "image/png": "[encoded data removed]",
      "text/plain": [
       "<Figure size 720x360 with 1 Axes>"
      ]
     },
     "metadata": {
      "needs_background": "light"
     },
     "output_type": "display_data"
    },
    {
     "data": {
      "image/png": "[encoded data removed]",
      "text/plain": [
       "<Figure size 720x360 with 1 Axes>"
      ]
     },
     "metadata": {
      "needs_background": "light"
     },
     "output_type": "display_data"
    }
   ],
   "source": [
    "BreakandEnter3 = rfr_model_err3(X_train_3,\\\n",
    "                          np.ravel(y_train.iloc[:,[2]]),\\\n",
    "                         np.ravel(y_test.iloc[:,[2]]))"
   ]
  },
  {
   "cell_type": "code",
   "execution_count": 58,
   "metadata": {
    "scrolled": false
   },
   "outputs": [
    {
     "name": "stdout",
     "output_type": "stream",
     "text": [
      "Best Parameters {'max_depth': 5, 'n_estimators': 10}\n",
      "---------------------------------------------------------\n",
      "Predictions [ 77.75003528  85.12592327 166.43603656  73.34964224  91.49582653\n",
      " 232.59185606 167.33638655 117.42491317 186.17127976 249.84450397\n",
      " 112.72380952 247.05013889 107.05616156 147.06148479  93.27505556\n",
      " 104.02181812  98.58218849  97.50679167 140.65749489 118.58848479\n",
      "  95.15252349 196.00067227  94.0594516   99.13948864  91.95886574\n",
      "  51.5958098  104.77655668 137.36904762  50.81202192 230.03547619\n",
      " 105.93994318 138.26626257 147.56119859 571.65       386.65333333\n",
      "  64.87126435  51.5958098  159.07407738 235.01821429  70.80785309\n",
      " 128.17806812  75.11529844]\n",
      "---------------------------------------------------------\n",
      "Errors [  43.24996472  -29.12592327  -28.43603656  -27.34964224  -10.49582653\n",
      "  127.40814394 -114.33638655  -85.42491317  -51.17127976   56.15549603\n",
      "  -54.72380952 -157.05013889  -33.05616156   67.93851521  -73.27505556\n",
      "   38.97818188   33.41781151  -10.50679167   94.34250511    0.41151521\n",
      "  -29.15252349   84.99932773   25.9405484   -65.13948864  -59.95886574\n",
      "   -6.5958098   -14.77655668  -83.36904762  -20.81202192   14.96452381\n",
      "   71.06005682  -30.26626257  -95.56119859 -187.65       -264.65333333\n",
      "   22.12873565   19.4041902   -77.07407738 -148.01821429   31.19214691\n",
      "   -4.17806812  -17.11529844]\n",
      "---------------------------------------------------------\n",
      "Percentiles: 25th=-63.844, 75th=24.988, IQR=88.832\n",
      "Identified outliers: 1\n",
      "Non-outlier observations: 41\n",
      "---------------------------------------------------------\n",
      "Mean Absolute Error 59.782485595527426\n",
      "Mean Squared Error 6475.018797956143\n",
      "---------------------------------------------------------\n",
      "Feature Importance Coeff: (['KSI', 'TotalYouthServices', 'CommunityHousing', 'PlacesOfWorship', 'SocialHousing'], array([0.29347215, 0.60440959, 0.00931214, 0.03437028, 0.05843584]))\n",
      "---------------------------------------------------------\n",
      "---------------------------------------------------------\n",
      "kfold CV neg MSE [ -9776.12009227  -9190.37494496  -2208.42763782  -2580.93409452\n",
      "  -7920.7811526  -10681.79436227 -12804.64063554  -3011.73579362\n",
      "  -7696.3407137   -3096.82101523]\n",
      "kFold R^2 [0.94591692 0.91247583 0.93039486 0.9259865  0.94240397 0.9207267\n",
      " 0.90541082 0.92595539 0.91286734 0.92943694]\n",
      "10-KFold folds: KFold(n_splits=10, random_state=24, shuffle=True)\n",
      "---------------------------------------------------------\n",
      "kfold CV neg MSE [-10383.12356405  -2210.78639503  -9633.38745856  -7027.9761864\n",
      "  -3326.92022663]\n",
      "kFold R^2 [0.92611189 0.92621007 0.94591709 0.92013214 0.93286083]\n",
      "5-Fold folds: KFold(n_splits=5, random_state=24, shuffle=True)\n",
      "---------------------------------------------------------\n"
     ]
    },
    {
     "data": {
      "image/png": "[encoded data removed]",
      "text/plain": [
       "<Figure size 432x288 with 1 Axes>"
      ]
     },
     "metadata": {
      "needs_background": "light"
     },
     "output_type": "display_data"
    },
    {
     "data": {
      "image/png": "[encoded data removed]",
      "text/plain": [
       "<Figure size 720x360 with 1 Axes>"
      ]
     },
     "metadata": {
      "needs_background": "light"
     },
     "output_type": "display_data"
    },
    {
     "data": {
      "image/png": "[encoded data removed]",
      "text/plain": [
       "<Figure size 720x360 with 1 Axes>"
      ]
     },
     "metadata": {
      "needs_background": "light"
     },
     "output_type": "display_data"
    },
    {
     "data": {
      "image/png": "[encoded data removed]",
      "text/plain": [
       "<Figure size 720x360 with 1 Axes>"
      ]
     },
     "metadata": {
      "needs_background": "light"
     },
     "output_type": "display_data"
    },
    {
     "data": {
      "image/png": "[encoded data removed]",
      "text/plain": [
       "<Figure size 720x360 with 1 Axes>"
      ]
     },
     "metadata": {
      "needs_background": "light"
     },
     "output_type": "display_data"
    }
   ],
   "source": [
    "Robbery3 = rfr_model_err3(X_train_3,\\\n",
    "                          np.ravel(y_train.iloc[:,[3]]),\\\n",
    "                         np.ravel(y_test.iloc[:,[3]]))"
   ]
  },
  {
   "cell_type": "code",
   "execution_count": 60,
   "metadata": {
    "scrolled": false
   },
   "outputs": [
    {
     "name": "stdout",
     "output_type": "stream",
     "text": [
      "Best Parameters {'max_depth': 6, 'n_estimators': 25}\n",
      "---------------------------------------------------------\n",
      "Predictions [ 30.26464293  22.46785354  32.56618949  21.63864899  14.99944301\n",
      "  92.19341796  37.53030665  27.0591214   38.72877571  77.38148485\n",
      "  35.0600467  118.05690476  16.99359791  24.07934677  26.31632831\n",
      "  23.38928876  25.75712808  21.14667208  26.57638067  34.43151201\n",
      "  20.21389326  62.67633282  16.68226229  23.10587739  14.86956066\n",
      "  23.28261868  24.72762752  53.76591235  16.14249867  96.69848485\n",
      "  22.28218016  27.50902887  22.51841371 142.38666667 135.34073504\n",
      "  22.69479138  23.28261868  31.78086462 104.68266667  23.2948543\n",
      "  20.6426752   20.02212891]\n",
      "---------------------------------------------------------\n",
      "Errors [  7.73535707 -15.46785354   3.43381051  -7.63864899  -5.99944301\n",
      " -19.19341796  12.46969335  -1.0591214  -19.72877571 -21.38148485\n",
      " -14.0600467  -58.05690476  -1.99359791   2.92065323  -1.31632831\n",
      "   0.61071124  34.24287192   5.85332792  27.42361933 -19.43151201\n",
      "  19.78610674 -18.67633282   6.31773771  -4.10587739  -7.86956066\n",
      " -11.28261868 -10.72762752 -22.76591235   0.85750133  73.30151515\n",
      "  14.71781984  28.49097113 -13.51841371  16.61333333 -36.34073504\n",
      "  -8.69479138  -0.28261868   4.21913538 -72.68266667 -16.2948543\n",
      "  13.3573248   -7.02212891]\n",
      "---------------------------------------------------------\n",
      "Percentiles: 25th=-15.116, 75th=6.202, IQR=21.318\n",
      "Identified outliers: 3\n",
      "Non-outlier observations: 39\n",
      "---------------------------------------------------------\n",
      "Mean Absolute Error 16.37958960134155\n",
      "Mean Squared Error 556.351269662188\n",
      "---------------------------------------------------------\n",
      "Feature Importance Coeff: (['KSI', 'TotalYouthServices', 'CommunityHousing', 'PlacesOfWorship', 'SocialHousing'], array([0.62025739, 0.18875732, 0.04117151, 0.09646776, 0.05334603]))\n",
      "---------------------------------------------------------\n",
      "---------------------------------------------------------\n",
      "kfold CV neg MSE [ -467.95023472 -2856.36220084  -694.24011753   -90.69858231\n",
      " -2047.94196972  -457.9344295  -6104.72901157  -870.89627608\n",
      " -2547.1004279  -4298.7276422 ]\n",
      "kFold R^2 [0.91066227 0.87077504 0.90369815 0.91084421 0.91379527 0.90577469\n",
      " 0.9441717  0.90107525 0.88337563 0.91028754]\n",
      "10-KFold folds: KFold(n_splits=10, random_state=24, shuffle=True)\n",
      "---------------------------------------------------------\n",
      "kfold CV neg MSE [-1249.6555486   -256.91595763 -2117.47224395 -4470.93899993\n",
      " -3160.46670134]\n",
      "kFold R^2 [0.8699127  0.89292516 0.91353729 0.93025529 0.88376779]\n",
      "5-Fold folds: KFold(n_splits=5, random_state=24, shuffle=True)\n",
      "---------------------------------------------------------\n"
     ]
    },
    {
     "data": {
      "image/png": "[encoded data removed]",
      "text/plain": [
       "<Figure size 432x288 with 1 Axes>"
      ]
     },
     "metadata": {
      "needs_background": "light"
     },
     "output_type": "display_data"
    },
    {
     "data": {
      "image/png": "[encoded data removed]",
      "text/plain": [
       "<Figure size 720x360 with 1 Axes>"
      ]
     },
     "metadata": {
      "needs_background": "light"
     },
     "output_type": "display_data"
    },
    {
     "data": {
      "image/png": "[encoded data removed]",
      "text/plain": [
       "<Figure size 720x360 with 1 Axes>"
      ]
     },
     "metadata": {
      "needs_background": "light"
     },
     "output_type": "display_data"
    },
    {
     "data": {
      "image/png": "[encoded data removed]",
      "text/plain": [
       "<Figure size 720x360 with 1 Axes>"
      ]
     },
     "metadata": {
      "needs_background": "light"
     },
     "output_type": "display_data"
    },
    {
     "data": {
      "image/png": "[encoded data removed]",
      "text/plain": [
       "<Figure size 720x360 with 1 Axes>"
      ]
     },
     "metadata": {
      "needs_background": "light"
     },
     "output_type": "display_data"
    }
   ],
   "source": [
    "TheftOver3 = rfr_model_err3(X_train_3,\\\n",
    "                          np.ravel(y_train.iloc[:,[4]]),\\\n",
    "                         np.ravel(y_test.iloc[:,[4]]))"
   ]
  },
  {
   "cell_type": "code",
   "execution_count": null,
   "metadata": {},
   "outputs": [],
   "source": []
  },
  {
   "cell_type": "code",
   "execution_count": null,
   "metadata": {},
   "outputs": [],
   "source": []
  }
 ],
 "metadata": {
  "kernelspec": {
   "display_name": "Python 3",
   "language": "python",
   "name": "python3"
  },
  "language_info": {
   "codemirror_mode": {
    "name": "ipython",
    "version": 3
   },
   "file_extension": ".py",
   "mimetype": "text/x-python",
   "name": "python",
   "nbconvert_exporter": "python",
   "pygments_lexer": "ipython3",
   "version": "3.7.6"
  }
 },
 "nbformat": 4,
 "nbformat_minor": 4
}
